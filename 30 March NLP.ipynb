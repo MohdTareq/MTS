{
 "cells": [
  {
   "cell_type": "code",
   "execution_count": 1,
   "id": "ad638c59",
   "metadata": {},
   "outputs": [
    {
     "name": "stdout",
     "output_type": "stream",
     "text": [
      "Requirement already satisfied: moviepy in c:\\users\\mohd tareq siddiqui\\anaconda3\\lib\\site-packages (1.0.3)\n",
      "Requirement already satisfied: numpy in c:\\users\\mohd tareq siddiqui\\anaconda3\\lib\\site-packages (from moviepy) (1.20.3)\n",
      "Requirement already satisfied: imageio<3.0,>=2.5 in c:\\users\\mohd tareq siddiqui\\anaconda3\\lib\\site-packages (from moviepy) (2.9.0)\n",
      "Requirement already satisfied: imageio-ffmpeg>=0.2.0 in c:\\users\\mohd tareq siddiqui\\anaconda3\\lib\\site-packages (from moviepy) (0.4.5)\n",
      "Requirement already satisfied: requests<3.0,>=2.8.1 in c:\\users\\mohd tareq siddiqui\\anaconda3\\lib\\site-packages (from moviepy) (2.26.0)\n",
      "Requirement already satisfied: tqdm<5.0,>=4.11.2 in c:\\users\\mohd tareq siddiqui\\anaconda3\\lib\\site-packages (from moviepy) (4.62.3)\n",
      "Requirement already satisfied: proglog<=1.0.0 in c:\\users\\mohd tareq siddiqui\\anaconda3\\lib\\site-packages (from moviepy) (0.1.9)\n",
      "Requirement already satisfied: decorator<5.0,>=4.0.2 in c:\\users\\mohd tareq siddiqui\\anaconda3\\lib\\site-packages (from moviepy) (4.4.2)\n",
      "Requirement already satisfied: pillow in c:\\users\\mohd tareq siddiqui\\anaconda3\\lib\\site-packages (from imageio<3.0,>=2.5->moviepy) (8.4.0)\n",
      "Requirement already satisfied: certifi>=2017.4.17 in c:\\users\\mohd tareq siddiqui\\anaconda3\\lib\\site-packages (from requests<3.0,>=2.8.1->moviepy) (2021.10.8)\n",
      "Requirement already satisfied: charset-normalizer~=2.0.0 in c:\\users\\mohd tareq siddiqui\\anaconda3\\lib\\site-packages (from requests<3.0,>=2.8.1->moviepy) (2.0.4)\n",
      "Requirement already satisfied: idna<4,>=2.5 in c:\\users\\mohd tareq siddiqui\\anaconda3\\lib\\site-packages (from requests<3.0,>=2.8.1->moviepy) (3.2)\n",
      "Requirement already satisfied: urllib3<1.27,>=1.21.1 in c:\\users\\mohd tareq siddiqui\\anaconda3\\lib\\site-packages (from requests<3.0,>=2.8.1->moviepy) (1.26.7)\n",
      "Requirement already satisfied: colorama in c:\\users\\mohd tareq siddiqui\\anaconda3\\lib\\site-packages (from tqdm<5.0,>=4.11.2->moviepy) (0.4.4)\n",
      "Requirement already satisfied: SpeechRecognition in c:\\users\\mohd tareq siddiqui\\anaconda3\\lib\\site-packages (3.8.1)\n"
     ]
    }
   ],
   "source": [
    "!pip install moviepy\n",
    "!pip install SpeechRecognition"
   ]
  },
  {
   "cell_type": "code",
   "execution_count": 2,
   "id": "841e33e2",
   "metadata": {},
   "outputs": [
    {
     "name": "stdout",
     "output_type": "stream",
     "text": [
      "MoviePy - Writing audio in C:/Users/mohd tareq siddiqui/Desktop/DS/audio.wav\n"
     ]
    },
    {
     "name": "stderr",
     "output_type": "stream",
     "text": [
      "                                                                                                                       "
     ]
    },
    {
     "name": "stdout",
     "output_type": "stream",
     "text": [
      "MoviePy - Done.\n"
     ]
    },
    {
     "name": "stderr",
     "output_type": "stream",
     "text": [
      "\r"
     ]
    }
   ],
   "source": [
    "# Python code to convert video to audio.\n",
    "import moviepy.editor as mp\n",
    "\n",
    "# Insert Local Video File Path\n",
    "clip=mp.VideoFileClip(r\"D:/DATA SCIENCE/NLP/DS.mp4\")\n",
    "\n",
    "# Insert Local Audio File Path\n",
    "audio_clip=clip.audio.write_audiofile(r\"C:/Users/mohd tareq siddiqui/Desktop/DS/audio.wav\")\n",
    "\n",
    "# First video is converted to audio and then audio is converted to text"
   ]
  },
  {
   "cell_type": "code",
   "execution_count": 3,
   "id": "745b257e",
   "metadata": {},
   "outputs": [
    {
     "name": "stdout",
     "output_type": "stream",
     "text": [
      "Requirement already satisfied: pydub in c:\\users\\mohd tareq siddiqui\\anaconda3\\lib\\site-packages (0.25.1)\n"
     ]
    }
   ],
   "source": [
    "!pip install pydub\n",
    "import os\n",
    "from pydub import AudioSegment\n",
    "from pydub.silence import split_on_silence\n",
    "import speech_recognition as sr\n",
    "r=sr.Recognizer()"
   ]
  },
  {
   "cell_type": "code",
   "execution_count": 4,
   "id": "c3ff4319",
   "metadata": {},
   "outputs": [],
   "source": [
    "def get_large_audio_transcription(path):\n",
    "    \"\"\"\n",
    "    Splitting the large audio file into chunks\n",
    "    and apply speech recognition on each of these chunks\n",
    "    \n",
    "    \"\"\"\n",
    "    \n",
    "    # open the audio file using pydub\n",
    "    sound=AudioSegment.from_wav(path)\n",
    "    #split audio sound whre silence is 700 milisecondsor more and get chunks\n",
    "    chunks=split_on_silence(sound,# experiment with this value for your target audio file\n",
    "                            min_silence_len=500, # adjust this as per requirement\n",
    "                            silence_thresh=sound.dBFS-14, # keep the silence for 1 second, adjustable as well\n",
    "                            keep_silence=500\n",
    "    )\n",
    "    folder_name='audio-chunks'\n",
    "    # create a directory to store the audio chunks\n",
    "    if not os.path.isdir(folder_name):\n",
    "        os.mkdir(folder_name)\n",
    "    whole_text=\"\"\n",
    "    # process each chunk\n",
    "    for i, audio_chunk in enumerate(chunks, start=1):\n",
    "        # export audio chunk and save it in\n",
    "        # the folder_name directory\n",
    "        chunk_filename=os.path.join(folder_name,f\"chunk{i}.wav\")\n",
    "        audio_chunk.export(chunk_filename,format='wav')\n",
    "        # recognise the chunk\n",
    "        with sr.AudioFile(chunk_filename) as source:\n",
    "            audio_listened=r.record(source)\n",
    "            # try converting it to text\n",
    "            try:\n",
    "                text=r.recognize_google(audio_listened)\n",
    "            except sr.UnknownValueError as e:\n",
    "                print('Error:',str(e))\n",
    "            else:\n",
    "                text=f\"{text.capitalize()}.\"\n",
    "                print(chunk_filename,\":\",text)\n",
    "                whole_text+=text\n",
    "    # return the text for all chinks detected\n",
    "    return whole_text"
   ]
  },
  {
   "cell_type": "code",
   "execution_count": 7,
   "id": "131330a0",
   "metadata": {},
   "outputs": [
    {
     "name": "stdout",
     "output_type": "stream",
     "text": [
      "Error: \n",
      "audio-chunks\\chunk2.wav : Hello tv.\n",
      "audio-chunks\\chunk3.wav : In this lecture.\n",
      "Error: \n",
      "audio-chunks\\chunk5.wav : Behaviour.\n",
      "audio-chunks\\chunk6.wav : Engine performance parameter.\n",
      "audio-chunks\\chunk7.wav : With respective engine speed and.\n",
      "Error: \n",
      "audio-chunks\\chunk9.wav : In front office.\n",
      "audio-chunks\\chunk10.wav : We have a graph on which.\n",
      "audio-chunks\\chunk11.wav : Access.\n",
      "audio-chunks\\chunk12.wav : We have engine speed in rpm.\n",
      "audio-chunks\\chunk13.wav : Access.\n",
      "audio-chunks\\chunk14.wav : Indicated and.\n",
      "audio-chunks\\chunk15.wav : Power in terms of.\n",
      "audio-chunks\\chunk16.wav : Clover.\n",
      "audio-chunks\\chunk17.wav : The performance parameters.\n",
      "audio-chunks\\chunk18.wav : That.\n",
      "audio-chunks\\chunk19.wav : We are going to see against these to access our i am ap.\n",
      "audio-chunks\\chunk20.wav : What is indicated mean effective pressure.\n",
      "audio-chunks\\chunk21.wav : Brake mean effective pressure and torque.\n",
      "audio-chunks\\chunk22.wav : Indicated power brake power.\n",
      "audio-chunks\\chunk23.wav : Indicated and brake thermal efficiency.\n",
      "audio-chunks\\chunk24.wav : Also f c which stands for.\n",
      "Error: \n",
      "Error: \n",
      "audio-chunks\\chunk27.wav : Consumption.\n",
      "audio-chunks\\chunk28.wav : Indicated mean effective pressure is concert.\n",
      "audio-chunks\\chunk29.wav : Messi.\n",
      "audio-chunks\\chunk30.wav : That.\n",
      "audio-chunks\\chunk31.wav : Sp engine speed.\n",
      "audio-chunks\\chunk32.wav : It goes on increasing.\n",
      "audio-chunks\\chunk33.wav : Indicated mean effective pressure.\n",
      "audio-chunks\\chunk34.wav : It will increase linearly to a certain point.\n",
      "audio-chunks\\chunk35.wav : Relative lee constant.\n",
      "audio-chunks\\chunk36.wav : Increase of engine speed.\n",
      "audio-chunks\\chunk37.wav : It will tend words.\n",
      "audio-chunks\\chunk38.wav : Decreasing.\n",
      "Error: \n",
      "audio-chunks\\chunk40.wav : Brake mean effective pressure and.\n",
      "audio-chunks\\chunk41.wav : Hot.\n",
      "audio-chunks\\chunk42.wav : Concert.\n",
      "audio-chunks\\chunk43.wav : Sb engine speed goes on increasing.\n",
      "audio-chunks\\chunk44.wav : Initially this two points that is bmep and torque.\n",
      "audio-chunks\\chunk45.wav : Devan in increased linearly with the engine speed.\n",
      "audio-chunks\\chunk46.wav : After a certain point of.\n",
      "Error: \n",
      "audio-chunks\\chunk48.wav : Open entries in engine speed.\n",
      "audio-chunks\\chunk49.wav : These two parameters.\n",
      "audio-chunks\\chunk50.wav : Will go on decreasing.\n",
      "audio-chunks\\chunk51.wav : Sb engine speed goes on increasing which is visible.\n",
      "audio-chunks\\chunk52.wav : On the trend of line denoted by the numeral.\n",
      "Error: \n",
      "audio-chunks\\chunk54.wav : Then we have.\n",
      "audio-chunks\\chunk55.wav : Indicated power and.\n",
      "audio-chunks\\chunk56.wav : Reliance free add.\n",
      "Error: \n",
      "audio-chunks\\chunk58.wav : Vacancy.\n",
      "audio-chunks\\chunk59.wav : Open display coronavirus.\n",
      "audio-chunks\\chunk60.wav : Indicated and brake power the increased.\n",
      "audio-chunks\\chunk61.wav : Linearly with me.\n",
      "audio-chunks\\chunk62.wav : Speed.\n",
      "audio-chunks\\chunk63.wav : Then we have.\n",
      "audio-chunks\\chunk64.wav : Indicated and brake thermal efficiency.\n",
      "audio-chunks\\chunk65.wav : Gain efficiency in dotted lines.\n",
      "audio-chunks\\chunk66.wav : With the increase ninja speed.\n",
      "audio-chunks\\chunk67.wav : These two efficiencies by increasing linearly taylor 7 point.\n",
      "audio-chunks\\chunk68.wav : Achieving their pipli.\n",
      "audio-chunks\\chunk69.wav : Increase in the engine speed.\n",
      "audio-chunks\\chunk70.wav : Both indicated and b thermal efficiency.\n",
      "audio-chunks\\chunk71.wav : Will go on decreasing when the engine speed is for the interest.\n",
      "Error: \n",
      "audio-chunks\\chunk73.wav : Specific fuel consumption is the sun.\n",
      "audio-chunks\\chunk74.wav : When the engine speed is low.\n",
      "audio-chunks\\chunk75.wav : Aur when the engine is idling.\n",
      "audio-chunks\\chunk76.wav : Fuel consumption will be on the higher side as is indicated by line denoted by the.\n",
      "audio-chunks\\chunk77.wav : Number.\n",
      "audio-chunks\\chunk78.wav : 7.\n",
      "audio-chunks\\chunk79.wav : Health industry goes on increasing.\n",
      "audio-chunks\\chunk80.wav : Specific fuel consumption will.\n",
      "audio-chunks\\chunk81.wav : Decrease.\n",
      "audio-chunks\\chunk82.wav : 10 degrees.\n",
      "audio-chunks\\chunk83.wav : Is visible over a certain period range of the.\n",
      "audio-chunks\\chunk84.wav : Engine speed range of engine become collector the cruising range.\n",
      "audio-chunks\\chunk85.wav : On further increase in the engine speed.\n",
      "audio-chunks\\chunk86.wav : We find that the trend of the line indicated by the number 7 goes on.\n",
      "audio-chunks\\chunk87.wav : Increasing.\n",
      "audio-chunks\\chunk88.wav : This range of engine speed.\n",
      "audio-chunks\\chunk89.wav : Can be associated with increase in the.\n",
      "audio-chunks\\chunk90.wav : Power requirement from the engine.\n",
      "audio-chunks\\chunk91.wav : This was about.\n",
      "audio-chunks\\chunk92.wav : The performance of engine parameters.\n",
      "audio-chunks\\chunk93.wav : As associated with the.\n",
      "Error: \n",
      "audio-chunks\\chunk95.wav : Thank you very much.\n"
     ]
    }
   ],
   "source": [
    "text = get_large_audio_transcription(r\"C:/Users/mohd tareq siddiqui/Desktop/DS/audio.wav\")"
   ]
  },
  {
   "cell_type": "code",
   "execution_count": null,
   "id": "3a39b009",
   "metadata": {},
   "outputs": [],
   "source": []
  }
 ],
 "metadata": {
  "kernelspec": {
   "display_name": "Python 3 (ipykernel)",
   "language": "python",
   "name": "python3"
  },
  "language_info": {
   "codemirror_mode": {
    "name": "ipython",
    "version": 3
   },
   "file_extension": ".py",
   "mimetype": "text/x-python",
   "name": "python",
   "nbconvert_exporter": "python",
   "pygments_lexer": "ipython3",
   "version": "3.9.7"
  }
 },
 "nbformat": 4,
 "nbformat_minor": 5
}
