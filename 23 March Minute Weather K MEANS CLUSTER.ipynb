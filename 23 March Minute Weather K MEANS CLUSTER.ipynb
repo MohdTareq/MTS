{
 "cells": [
  {
   "cell_type": "code",
   "execution_count": 1,
   "id": "af8925b8",
   "metadata": {},
   "outputs": [],
   "source": [
    "from sklearn.preprocessing import StandardScaler\n",
    "from sklearn.cluster import KMeans\n",
    "import pandas as pd\n",
    "import numpy as np\n",
    "import matplotlib.pyplot as plt"
   ]
  },
  {
   "cell_type": "code",
   "execution_count": 2,
   "id": "2fa2a9c3",
   "metadata": {},
   "outputs": [],
   "source": [
    "data=pd.read_csv('D:/DATA SCIENCE/DS ML Files/minute_weather.csv')"
   ]
  },
  {
   "cell_type": "code",
   "execution_count": 4,
   "id": "294ffeb1",
   "metadata": {},
   "outputs": [
    {
     "data": {
      "text/plain": [
       "(1048575, 13)"
      ]
     },
     "execution_count": 4,
     "metadata": {},
     "output_type": "execute_result"
    }
   ],
   "source": [
    "data.shape"
   ]
  },
  {
   "cell_type": "code",
   "execution_count": 5,
   "id": "82d7d50d",
   "metadata": {},
   "outputs": [
    {
     "data": {
      "text/html": [
       "<div>\n",
       "<style scoped>\n",
       "    .dataframe tbody tr th:only-of-type {\n",
       "        vertical-align: middle;\n",
       "    }\n",
       "\n",
       "    .dataframe tbody tr th {\n",
       "        vertical-align: top;\n",
       "    }\n",
       "\n",
       "    .dataframe thead th {\n",
       "        text-align: right;\n",
       "    }\n",
       "</style>\n",
       "<table border=\"1\" class=\"dataframe\">\n",
       "  <thead>\n",
       "    <tr style=\"text-align: right;\">\n",
       "      <th></th>\n",
       "      <th>rowID</th>\n",
       "      <th>hpwren_timestamp</th>\n",
       "      <th>air_pressure</th>\n",
       "      <th>air_temp</th>\n",
       "      <th>avg_wind_direction</th>\n",
       "      <th>avg_wind_speed</th>\n",
       "      <th>max_wind_direction</th>\n",
       "      <th>max_wind_speed</th>\n",
       "      <th>min_wind_direction</th>\n",
       "      <th>min_wind_speed</th>\n",
       "      <th>rain_accumulation</th>\n",
       "      <th>rain_duration</th>\n",
       "      <th>relative_humidity</th>\n",
       "    </tr>\n",
       "  </thead>\n",
       "  <tbody>\n",
       "    <tr>\n",
       "      <th>0</th>\n",
       "      <td>0</td>\n",
       "      <td>10-09-2011 00:00</td>\n",
       "      <td>912.3</td>\n",
       "      <td>64.76</td>\n",
       "      <td>97.0</td>\n",
       "      <td>1.2</td>\n",
       "      <td>106.0</td>\n",
       "      <td>1.6</td>\n",
       "      <td>85.0</td>\n",
       "      <td>1.0</td>\n",
       "      <td>NaN</td>\n",
       "      <td>NaN</td>\n",
       "      <td>60.5</td>\n",
       "    </tr>\n",
       "    <tr>\n",
       "      <th>1</th>\n",
       "      <td>1</td>\n",
       "      <td>10-09-2011 00:01</td>\n",
       "      <td>912.3</td>\n",
       "      <td>63.86</td>\n",
       "      <td>161.0</td>\n",
       "      <td>0.8</td>\n",
       "      <td>215.0</td>\n",
       "      <td>1.5</td>\n",
       "      <td>43.0</td>\n",
       "      <td>0.2</td>\n",
       "      <td>0.0</td>\n",
       "      <td>0.0</td>\n",
       "      <td>39.9</td>\n",
       "    </tr>\n",
       "    <tr>\n",
       "      <th>2</th>\n",
       "      <td>2</td>\n",
       "      <td>10-09-2011 00:02</td>\n",
       "      <td>912.3</td>\n",
       "      <td>64.22</td>\n",
       "      <td>77.0</td>\n",
       "      <td>0.7</td>\n",
       "      <td>143.0</td>\n",
       "      <td>1.2</td>\n",
       "      <td>324.0</td>\n",
       "      <td>0.3</td>\n",
       "      <td>0.0</td>\n",
       "      <td>0.0</td>\n",
       "      <td>43.0</td>\n",
       "    </tr>\n",
       "    <tr>\n",
       "      <th>3</th>\n",
       "      <td>3</td>\n",
       "      <td>10-09-2011 00:03</td>\n",
       "      <td>912.3</td>\n",
       "      <td>64.40</td>\n",
       "      <td>89.0</td>\n",
       "      <td>1.2</td>\n",
       "      <td>112.0</td>\n",
       "      <td>1.6</td>\n",
       "      <td>12.0</td>\n",
       "      <td>0.7</td>\n",
       "      <td>0.0</td>\n",
       "      <td>0.0</td>\n",
       "      <td>49.5</td>\n",
       "    </tr>\n",
       "    <tr>\n",
       "      <th>4</th>\n",
       "      <td>4</td>\n",
       "      <td>10-09-2011 00:04</td>\n",
       "      <td>912.3</td>\n",
       "      <td>64.40</td>\n",
       "      <td>185.0</td>\n",
       "      <td>0.4</td>\n",
       "      <td>260.0</td>\n",
       "      <td>1.0</td>\n",
       "      <td>100.0</td>\n",
       "      <td>0.1</td>\n",
       "      <td>0.0</td>\n",
       "      <td>0.0</td>\n",
       "      <td>58.8</td>\n",
       "    </tr>\n",
       "  </tbody>\n",
       "</table>\n",
       "</div>"
      ],
      "text/plain": [
       "   rowID  hpwren_timestamp  air_pressure  air_temp  avg_wind_direction  \\\n",
       "0      0  10-09-2011 00:00         912.3     64.76                97.0   \n",
       "1      1  10-09-2011 00:01         912.3     63.86               161.0   \n",
       "2      2  10-09-2011 00:02         912.3     64.22                77.0   \n",
       "3      3  10-09-2011 00:03         912.3     64.40                89.0   \n",
       "4      4  10-09-2011 00:04         912.3     64.40               185.0   \n",
       "\n",
       "   avg_wind_speed  max_wind_direction  max_wind_speed  min_wind_direction  \\\n",
       "0             1.2               106.0             1.6                85.0   \n",
       "1             0.8               215.0             1.5                43.0   \n",
       "2             0.7               143.0             1.2               324.0   \n",
       "3             1.2               112.0             1.6                12.0   \n",
       "4             0.4               260.0             1.0               100.0   \n",
       "\n",
       "   min_wind_speed  rain_accumulation  rain_duration  relative_humidity  \n",
       "0             1.0                NaN            NaN               60.5  \n",
       "1             0.2                0.0            0.0               39.9  \n",
       "2             0.3                0.0            0.0               43.0  \n",
       "3             0.7                0.0            0.0               49.5  \n",
       "4             0.1                0.0            0.0               58.8  "
      ]
     },
     "execution_count": 5,
     "metadata": {},
     "output_type": "execute_result"
    }
   ],
   "source": [
    "data.head()"
   ]
  },
  {
   "cell_type": "code",
   "execution_count": 6,
   "id": "f612019e",
   "metadata": {},
   "outputs": [
    {
     "data": {
      "text/plain": [
       "(104858, 13)"
      ]
     },
     "execution_count": 6,
     "metadata": {},
     "output_type": "execute_result"
    }
   ],
   "source": [
    "sample_df=data[(data['rowID']%10)==0] # this will read the data on every 10th line. we did this as tha dataset is very large\n",
    "sample_df.shape"
   ]
  },
  {
   "cell_type": "code",
   "execution_count": 7,
   "id": "12a992e9",
   "metadata": {},
   "outputs": [
    {
     "data": {
      "text/html": [
       "<div>\n",
       "<style scoped>\n",
       "    .dataframe tbody tr th:only-of-type {\n",
       "        vertical-align: middle;\n",
       "    }\n",
       "\n",
       "    .dataframe tbody tr th {\n",
       "        vertical-align: top;\n",
       "    }\n",
       "\n",
       "    .dataframe thead th {\n",
       "        text-align: right;\n",
       "    }\n",
       "</style>\n",
       "<table border=\"1\" class=\"dataframe\">\n",
       "  <thead>\n",
       "    <tr style=\"text-align: right;\">\n",
       "      <th></th>\n",
       "      <th>count</th>\n",
       "      <th>mean</th>\n",
       "      <th>std</th>\n",
       "      <th>min</th>\n",
       "      <th>25%</th>\n",
       "      <th>50%</th>\n",
       "      <th>75%</th>\n",
       "      <th>max</th>\n",
       "    </tr>\n",
       "  </thead>\n",
       "  <tbody>\n",
       "    <tr>\n",
       "      <th>rowID</th>\n",
       "      <td>104858.0</td>\n",
       "      <td>524285.000000</td>\n",
       "      <td>302700.416006</td>\n",
       "      <td>0.00</td>\n",
       "      <td>262142.5</td>\n",
       "      <td>524285.0</td>\n",
       "      <td>786427.50</td>\n",
       "      <td>1048570.00</td>\n",
       "    </tr>\n",
       "    <tr>\n",
       "      <th>air_pressure</th>\n",
       "      <td>104858.0</td>\n",
       "      <td>916.896735</td>\n",
       "      <td>3.086510</td>\n",
       "      <td>905.00</td>\n",
       "      <td>914.8</td>\n",
       "      <td>916.7</td>\n",
       "      <td>918.80</td>\n",
       "      <td>929.50</td>\n",
       "    </tr>\n",
       "    <tr>\n",
       "      <th>air_temp</th>\n",
       "      <td>104858.0</td>\n",
       "      <td>60.882900</td>\n",
       "      <td>12.029025</td>\n",
       "      <td>31.64</td>\n",
       "      <td>51.8</td>\n",
       "      <td>60.8</td>\n",
       "      <td>69.98</td>\n",
       "      <td>99.50</td>\n",
       "    </tr>\n",
       "    <tr>\n",
       "      <th>avg_wind_direction</th>\n",
       "      <td>104832.0</td>\n",
       "      <td>161.828316</td>\n",
       "      <td>95.869734</td>\n",
       "      <td>0.00</td>\n",
       "      <td>62.0</td>\n",
       "      <td>182.0</td>\n",
       "      <td>217.00</td>\n",
       "      <td>359.00</td>\n",
       "    </tr>\n",
       "    <tr>\n",
       "      <th>avg_wind_speed</th>\n",
       "      <td>104832.0</td>\n",
       "      <td>2.750766</td>\n",
       "      <td>2.016746</td>\n",
       "      <td>0.00</td>\n",
       "      <td>1.3</td>\n",
       "      <td>2.2</td>\n",
       "      <td>3.80</td>\n",
       "      <td>31.90</td>\n",
       "    </tr>\n",
       "    <tr>\n",
       "      <th>max_wind_direction</th>\n",
       "      <td>104832.0</td>\n",
       "      <td>162.626335</td>\n",
       "      <td>92.715477</td>\n",
       "      <td>0.00</td>\n",
       "      <td>67.0</td>\n",
       "      <td>187.0</td>\n",
       "      <td>223.00</td>\n",
       "      <td>359.00</td>\n",
       "    </tr>\n",
       "    <tr>\n",
       "      <th>max_wind_speed</th>\n",
       "      <td>104832.0</td>\n",
       "      <td>3.370356</td>\n",
       "      <td>2.361040</td>\n",
       "      <td>0.10</td>\n",
       "      <td>1.6</td>\n",
       "      <td>2.7</td>\n",
       "      <td>4.50</td>\n",
       "      <td>32.20</td>\n",
       "    </tr>\n",
       "    <tr>\n",
       "      <th>min_wind_direction</th>\n",
       "      <td>104832.0</td>\n",
       "      <td>166.937738</td>\n",
       "      <td>98.010987</td>\n",
       "      <td>0.00</td>\n",
       "      <td>76.0</td>\n",
       "      <td>180.0</td>\n",
       "      <td>212.00</td>\n",
       "      <td>359.00</td>\n",
       "    </tr>\n",
       "    <tr>\n",
       "      <th>min_wind_speed</th>\n",
       "      <td>104832.0</td>\n",
       "      <td>2.118886</td>\n",
       "      <td>1.719259</td>\n",
       "      <td>0.00</td>\n",
       "      <td>0.8</td>\n",
       "      <td>1.6</td>\n",
       "      <td>3.00</td>\n",
       "      <td>31.60</td>\n",
       "    </tr>\n",
       "    <tr>\n",
       "      <th>rain_accumulation</th>\n",
       "      <td>104857.0</td>\n",
       "      <td>0.000318</td>\n",
       "      <td>0.007715</td>\n",
       "      <td>0.00</td>\n",
       "      <td>0.0</td>\n",
       "      <td>0.0</td>\n",
       "      <td>0.00</td>\n",
       "      <td>1.17</td>\n",
       "    </tr>\n",
       "    <tr>\n",
       "      <th>rain_duration</th>\n",
       "      <td>104857.0</td>\n",
       "      <td>0.461953</td>\n",
       "      <td>4.875740</td>\n",
       "      <td>0.00</td>\n",
       "      <td>0.0</td>\n",
       "      <td>0.0</td>\n",
       "      <td>0.00</td>\n",
       "      <td>60.00</td>\n",
       "    </tr>\n",
       "    <tr>\n",
       "      <th>relative_humidity</th>\n",
       "      <td>104858.0</td>\n",
       "      <td>48.900664</td>\n",
       "      <td>26.035378</td>\n",
       "      <td>1.40</td>\n",
       "      <td>26.0</td>\n",
       "      <td>46.2</td>\n",
       "      <td>69.40</td>\n",
       "      <td>93.00</td>\n",
       "    </tr>\n",
       "  </tbody>\n",
       "</table>\n",
       "</div>"
      ],
      "text/plain": [
       "                       count           mean            std     min       25%  \\\n",
       "rowID               104858.0  524285.000000  302700.416006    0.00  262142.5   \n",
       "air_pressure        104858.0     916.896735       3.086510  905.00     914.8   \n",
       "air_temp            104858.0      60.882900      12.029025   31.64      51.8   \n",
       "avg_wind_direction  104832.0     161.828316      95.869734    0.00      62.0   \n",
       "avg_wind_speed      104832.0       2.750766       2.016746    0.00       1.3   \n",
       "max_wind_direction  104832.0     162.626335      92.715477    0.00      67.0   \n",
       "max_wind_speed      104832.0       3.370356       2.361040    0.10       1.6   \n",
       "min_wind_direction  104832.0     166.937738      98.010987    0.00      76.0   \n",
       "min_wind_speed      104832.0       2.118886       1.719259    0.00       0.8   \n",
       "rain_accumulation   104857.0       0.000318       0.007715    0.00       0.0   \n",
       "rain_duration       104857.0       0.461953       4.875740    0.00       0.0   \n",
       "relative_humidity   104858.0      48.900664      26.035378    1.40      26.0   \n",
       "\n",
       "                         50%        75%         max  \n",
       "rowID               524285.0  786427.50  1048570.00  \n",
       "air_pressure           916.7     918.80      929.50  \n",
       "air_temp                60.8      69.98       99.50  \n",
       "avg_wind_direction     182.0     217.00      359.00  \n",
       "avg_wind_speed           2.2       3.80       31.90  \n",
       "max_wind_direction     187.0     223.00      359.00  \n",
       "max_wind_speed           2.7       4.50       32.20  \n",
       "min_wind_direction     180.0     212.00      359.00  \n",
       "min_wind_speed           1.6       3.00       31.60  \n",
       "rain_accumulation        0.0       0.00        1.17  \n",
       "rain_duration            0.0       0.00       60.00  \n",
       "relative_humidity       46.2      69.40       93.00  "
      ]
     },
     "execution_count": 7,
     "metadata": {},
     "output_type": "execute_result"
    }
   ],
   "source": [
    "sample_df.describe().T"
   ]
  },
  {
   "cell_type": "code",
   "execution_count": 8,
   "id": "c3ca657d",
   "metadata": {},
   "outputs": [
    {
     "data": {
      "text/plain": [
       "rowID                  0\n",
       "hpwren_timestamp       0\n",
       "air_pressure           0\n",
       "air_temp               0\n",
       "avg_wind_direction    26\n",
       "avg_wind_speed        26\n",
       "max_wind_direction    26\n",
       "max_wind_speed        26\n",
       "min_wind_direction    26\n",
       "min_wind_speed        26\n",
       "rain_accumulation      1\n",
       "rain_duration          1\n",
       "relative_humidity      0\n",
       "dtype: int64"
      ]
     },
     "execution_count": 8,
     "metadata": {},
     "output_type": "execute_result"
    }
   ],
   "source": [
    "sample_df.isnull().sum()"
   ]
  },
  {
   "cell_type": "code",
   "execution_count": 9,
   "id": "c0e491f6",
   "metadata": {},
   "outputs": [
    {
     "data": {
      "text/plain": [
       "(104152, 13)"
      ]
     },
     "execution_count": 9,
     "metadata": {},
     "output_type": "execute_result"
    }
   ],
   "source": [
    "sample_df[sample_df['rain_accumulation']==0].shape #this will shows the 0 values for the specified column"
   ]
  },
  {
   "cell_type": "code",
   "execution_count": 10,
   "id": "4525cef0",
   "metadata": {},
   "outputs": [
    {
     "data": {
      "text/plain": [
       "(103726, 13)"
      ]
     },
     "execution_count": 10,
     "metadata": {},
     "output_type": "execute_result"
    }
   ],
   "source": [
    "sample_df[sample_df['rain_duration']==0].shape # we do this as we see in the dataset that there are many 0's(zeroes) in the specified column. Hence we need to decide whther to drop this column\n"
   ]
  },
  {
   "cell_type": "code",
   "execution_count": 11,
   "id": "b00b4e2d",
   "metadata": {},
   "outputs": [],
   "source": [
    "rows_before=sample_df.shape[0]\n",
    "sample_df=sample_df.dropna()\n",
    "rows_after=sample_df.shape[0]"
   ]
  },
  {
   "cell_type": "code",
   "execution_count": 13,
   "id": "1269adf6",
   "metadata": {},
   "outputs": [
    {
     "data": {
      "text/plain": [
       "27"
      ]
     },
     "execution_count": 13,
     "metadata": {},
     "output_type": "execute_result"
    }
   ],
   "source": [
    "rows_before-rows_after"
   ]
  },
  {
   "cell_type": "code",
   "execution_count": 14,
   "id": "c1207d7f",
   "metadata": {},
   "outputs": [
    {
     "data": {
      "text/plain": [
       "Index(['rowID', 'hpwren_timestamp', 'air_pressure', 'air_temp',\n",
       "       'avg_wind_direction', 'avg_wind_speed', 'max_wind_direction',\n",
       "       'max_wind_speed', 'min_wind_direction', 'min_wind_speed',\n",
       "       'rain_accumulation', 'rain_duration', 'relative_humidity'],\n",
       "      dtype='object')"
      ]
     },
     "execution_count": 14,
     "metadata": {},
     "output_type": "execute_result"
    }
   ],
   "source": [
    "sample_df.columns"
   ]
  },
  {
   "cell_type": "code",
   "execution_count": 15,
   "id": "3c7670d4",
   "metadata": {},
   "outputs": [],
   "source": [
    "features=['air_pressure', 'air_temp',\n",
    "       'avg_wind_direction', 'avg_wind_speed', 'max_wind_direction',\n",
    "       'max_wind_speed', 'relative_humidity']"
   ]
  },
  {
   "cell_type": "code",
   "execution_count": 17,
   "id": "bf726c7e",
   "metadata": {},
   "outputs": [
    {
     "data": {
      "text/plain": [
       "Index(['air_pressure', 'air_temp', 'avg_wind_direction', 'avg_wind_speed',\n",
       "       'max_wind_direction', 'max_wind_speed', 'relative_humidity'],\n",
       "      dtype='object')"
      ]
     },
     "execution_count": 17,
     "metadata": {},
     "output_type": "execute_result"
    }
   ],
   "source": [
    "select_df=sample_df[features]\n",
    "select_df.columns"
   ]
  },
  {
   "cell_type": "code",
   "execution_count": 18,
   "id": "3d85b756",
   "metadata": {},
   "outputs": [
    {
     "data": {
      "text/html": [
       "<div>\n",
       "<style scoped>\n",
       "    .dataframe tbody tr th:only-of-type {\n",
       "        vertical-align: middle;\n",
       "    }\n",
       "\n",
       "    .dataframe tbody tr th {\n",
       "        vertical-align: top;\n",
       "    }\n",
       "\n",
       "    .dataframe thead th {\n",
       "        text-align: right;\n",
       "    }\n",
       "</style>\n",
       "<table border=\"1\" class=\"dataframe\">\n",
       "  <thead>\n",
       "    <tr style=\"text-align: right;\">\n",
       "      <th></th>\n",
       "      <th>air_pressure</th>\n",
       "      <th>air_temp</th>\n",
       "      <th>avg_wind_direction</th>\n",
       "      <th>avg_wind_speed</th>\n",
       "      <th>max_wind_direction</th>\n",
       "      <th>max_wind_speed</th>\n",
       "      <th>relative_humidity</th>\n",
       "    </tr>\n",
       "  </thead>\n",
       "  <tbody>\n",
       "    <tr>\n",
       "      <th>10</th>\n",
       "      <td>912.3</td>\n",
       "      <td>62.24</td>\n",
       "      <td>144.0</td>\n",
       "      <td>1.2</td>\n",
       "      <td>167.0</td>\n",
       "      <td>1.8</td>\n",
       "      <td>38.5</td>\n",
       "    </tr>\n",
       "    <tr>\n",
       "      <th>20</th>\n",
       "      <td>912.2</td>\n",
       "      <td>63.32</td>\n",
       "      <td>100.0</td>\n",
       "      <td>2.0</td>\n",
       "      <td>122.0</td>\n",
       "      <td>2.5</td>\n",
       "      <td>58.3</td>\n",
       "    </tr>\n",
       "    <tr>\n",
       "      <th>30</th>\n",
       "      <td>912.2</td>\n",
       "      <td>62.60</td>\n",
       "      <td>91.0</td>\n",
       "      <td>2.0</td>\n",
       "      <td>103.0</td>\n",
       "      <td>2.4</td>\n",
       "      <td>57.9</td>\n",
       "    </tr>\n",
       "    <tr>\n",
       "      <th>40</th>\n",
       "      <td>912.2</td>\n",
       "      <td>64.04</td>\n",
       "      <td>81.0</td>\n",
       "      <td>2.6</td>\n",
       "      <td>88.0</td>\n",
       "      <td>2.9</td>\n",
       "      <td>57.4</td>\n",
       "    </tr>\n",
       "    <tr>\n",
       "      <th>50</th>\n",
       "      <td>912.1</td>\n",
       "      <td>63.68</td>\n",
       "      <td>102.0</td>\n",
       "      <td>1.2</td>\n",
       "      <td>119.0</td>\n",
       "      <td>1.5</td>\n",
       "      <td>51.4</td>\n",
       "    </tr>\n",
       "    <tr>\n",
       "      <th>...</th>\n",
       "      <td>...</td>\n",
       "      <td>...</td>\n",
       "      <td>...</td>\n",
       "      <td>...</td>\n",
       "      <td>...</td>\n",
       "      <td>...</td>\n",
       "      <td>...</td>\n",
       "    </tr>\n",
       "    <tr>\n",
       "      <th>1048530</th>\n",
       "      <td>916.7</td>\n",
       "      <td>78.62</td>\n",
       "      <td>195.0</td>\n",
       "      <td>0.9</td>\n",
       "      <td>197.0</td>\n",
       "      <td>1.0</td>\n",
       "      <td>9.0</td>\n",
       "    </tr>\n",
       "    <tr>\n",
       "      <th>1048540</th>\n",
       "      <td>916.7</td>\n",
       "      <td>78.62</td>\n",
       "      <td>189.0</td>\n",
       "      <td>1.0</td>\n",
       "      <td>190.0</td>\n",
       "      <td>1.1</td>\n",
       "      <td>8.0</td>\n",
       "    </tr>\n",
       "    <tr>\n",
       "      <th>1048550</th>\n",
       "      <td>916.7</td>\n",
       "      <td>78.80</td>\n",
       "      <td>187.0</td>\n",
       "      <td>0.6</td>\n",
       "      <td>189.0</td>\n",
       "      <td>0.6</td>\n",
       "      <td>8.5</td>\n",
       "    </tr>\n",
       "    <tr>\n",
       "      <th>1048560</th>\n",
       "      <td>916.6</td>\n",
       "      <td>78.80</td>\n",
       "      <td>204.0</td>\n",
       "      <td>1.2</td>\n",
       "      <td>205.0</td>\n",
       "      <td>1.3</td>\n",
       "      <td>7.2</td>\n",
       "    </tr>\n",
       "    <tr>\n",
       "      <th>1048570</th>\n",
       "      <td>916.6</td>\n",
       "      <td>78.62</td>\n",
       "      <td>195.0</td>\n",
       "      <td>1.0</td>\n",
       "      <td>196.0</td>\n",
       "      <td>1.1</td>\n",
       "      <td>9.1</td>\n",
       "    </tr>\n",
       "  </tbody>\n",
       "</table>\n",
       "<p>104831 rows × 7 columns</p>\n",
       "</div>"
      ],
      "text/plain": [
       "         air_pressure  air_temp  avg_wind_direction  avg_wind_speed  \\\n",
       "10              912.3     62.24               144.0             1.2   \n",
       "20              912.2     63.32               100.0             2.0   \n",
       "30              912.2     62.60                91.0             2.0   \n",
       "40              912.2     64.04                81.0             2.6   \n",
       "50              912.1     63.68               102.0             1.2   \n",
       "...               ...       ...                 ...             ...   \n",
       "1048530         916.7     78.62               195.0             0.9   \n",
       "1048540         916.7     78.62               189.0             1.0   \n",
       "1048550         916.7     78.80               187.0             0.6   \n",
       "1048560         916.6     78.80               204.0             1.2   \n",
       "1048570         916.6     78.62               195.0             1.0   \n",
       "\n",
       "         max_wind_direction  max_wind_speed  relative_humidity  \n",
       "10                    167.0             1.8               38.5  \n",
       "20                    122.0             2.5               58.3  \n",
       "30                    103.0             2.4               57.9  \n",
       "40                     88.0             2.9               57.4  \n",
       "50                    119.0             1.5               51.4  \n",
       "...                     ...             ...                ...  \n",
       "1048530               197.0             1.0                9.0  \n",
       "1048540               190.0             1.1                8.0  \n",
       "1048550               189.0             0.6                8.5  \n",
       "1048560               205.0             1.3                7.2  \n",
       "1048570               196.0             1.1                9.1  \n",
       "\n",
       "[104831 rows x 7 columns]"
      ]
     },
     "execution_count": 18,
     "metadata": {},
     "output_type": "execute_result"
    }
   ],
   "source": [
    "select_df"
   ]
  },
  {
   "cell_type": "code",
   "execution_count": 19,
   "id": "1914d8b0",
   "metadata": {},
   "outputs": [
    {
     "data": {
      "text/plain": [
       "array([[-1.48934911,  0.11256976, -0.18597082, ...,  0.04716723,\n",
       "        -0.66512119, -0.39915734],\n",
       "       [-1.52174859,  0.20235509, -0.64492793, ..., -0.43818949,\n",
       "        -0.36864083,  0.3614995 ],\n",
       "       [-1.52174859,  0.1424982 , -0.73880552, ..., -0.64311789,\n",
       "        -0.41099516,  0.34613269],\n",
       "       ...,\n",
       "       [-0.06377194,  1.48927819,  0.26255544, ...,  0.28445274,\n",
       "        -1.17337323, -1.55166769],\n",
       "       [-0.09617142,  1.48927819,  0.43987978, ...,  0.45702402,\n",
       "        -0.87689287, -1.6016098 ],\n",
       "       [-0.09617142,  1.47431397,  0.34600219, ...,  0.35995267,\n",
       "        -0.96160155, -1.52861748]])"
      ]
     },
     "execution_count": 19,
     "metadata": {},
     "output_type": "execute_result"
    }
   ],
   "source": [
    "X=StandardScaler().fit_transform(select_df)   # since there is a very distributed range of data it becomes tough to analize. Hence to bring the data in a uniform range for all the columns we did this\n",
    "X"
   ]
  },
  {
   "cell_type": "code",
   "execution_count": 20,
   "id": "3a337384",
   "metadata": {},
   "outputs": [],
   "source": [
    "#KMeans(n_cluster=12)\n",
    "kmeans=KMeans()\n",
    "model=kmeans.fit(X)"
   ]
  },
  {
   "cell_type": "code",
   "execution_count": 22,
   "id": "f93b6601",
   "metadata": {},
   "outputs": [
    {
     "data": {
      "text/plain": [
       "array([[ 0.11779768,  0.67708857,  0.67567678, -0.69356147,  0.9003178 ,\n",
       "        -0.68544962, -0.60407444],\n",
       "       [ 0.1319838 , -0.67909692, -1.17450365, -0.56151048, -1.01255246,\n",
       "        -0.57336612,  0.660802  ],\n",
       "       [-0.20975793,  0.57983742,  0.39164141,  0.52431373,  0.50740426,\n",
       "         0.47392202, -0.17452053],\n",
       "       [ 0.27657821,  0.68560451, -1.23530792, -0.50902917, -1.08559893,\n",
       "        -0.51927161, -0.82399057],\n",
       "       [ 1.28399742, -0.30831368, -1.13004632,  1.57345959, -1.02514537,\n",
       "         1.6571379 , -1.13673268],\n",
       "       [-1.09899313, -0.86337231,  0.43538409,  1.72904124,  0.53563433,\n",
       "         1.71036402,  0.93456201],\n",
       "       [-0.21428647, -0.96914644,  0.51531668, -0.27353205,  0.6856269 ,\n",
       "        -0.26688427,  1.21313508],\n",
       "       [ 0.24074939,  0.28897004,  1.88080945, -0.64803031, -1.53203622,\n",
       "        -0.56732519, -0.26472284]])"
      ]
     },
     "execution_count": 22,
     "metadata": {},
     "output_type": "execute_result"
    }
   ],
   "source": [
    "centers=model.cluster_centers_\n",
    "centers"
   ]
  },
  {
   "cell_type": "code",
   "execution_count": null,
   "id": "c1918c28",
   "metadata": {},
   "outputs": [],
   "source": [
    "# apply kmeans on iris data set. drop the columns of species and then apply"
   ]
  },
  {
   "cell_type": "code",
   "execution_count": null,
   "id": "5e7fca86",
   "metadata": {},
   "outputs": [],
   "source": []
  },
  {
   "cell_type": "code",
   "execution_count": null,
   "id": "8bbd7b19",
   "metadata": {},
   "outputs": [],
   "source": []
  },
  {
   "cell_type": "code",
   "execution_count": null,
   "id": "60756797",
   "metadata": {},
   "outputs": [],
   "source": []
  },
  {
   "cell_type": "code",
   "execution_count": null,
   "id": "6d8bf133",
   "metadata": {},
   "outputs": [],
   "source": []
  }
 ],
 "metadata": {
  "kernelspec": {
   "display_name": "Python 3 (ipykernel)",
   "language": "python",
   "name": "python3"
  },
  "language_info": {
   "codemirror_mode": {
    "name": "ipython",
    "version": 3
   },
   "file_extension": ".py",
   "mimetype": "text/x-python",
   "name": "python",
   "nbconvert_exporter": "python",
   "pygments_lexer": "ipython3",
   "version": "3.9.7"
  }
 },
 "nbformat": 4,
 "nbformat_minor": 5
}
