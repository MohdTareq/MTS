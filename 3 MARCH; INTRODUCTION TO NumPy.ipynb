{
 "cells": [
  {
   "cell_type": "markdown",
   "id": "9357c866",
   "metadata": {},
   "source": [
    "# 3 MARCH"
   ]
  },
  {
   "cell_type": "markdown",
   "id": "d950322d",
   "metadata": {},
   "source": [
    "# Numerical Python, or \"Numpy\" for short, is a foundational package on which many of the most common data science packages are built. Numpy provides us with high performance multi-dimensional arrays which we can use as vectors or matrices.\n",
    "\n",
    "# The key features of numpy are:\n",
    "\n",
    "# ndarrays: n-dimensional arrays of the same data type which are fast and space-efficient. There are a number of built-in methods for ndarrays which allow for rapid processing of data without using loops (e.g., compute the mean).\n",
    "# Broadcasting: a useful tool which defines implicit behavior between multi-dimensional arrays of different sizes.\n",
    "# Vectorization: enables numeric operations on ndarrays.\n",
    "# Input/Output: simplifies reading and writing of data from/to file."
   ]
  },
  {
   "cell_type": "markdown",
   "id": "e0e15fda",
   "metadata": {},
   "source": [
    "# How to create Rank 1 numpy arrays:"
   ]
  },
  {
   "cell_type": "code",
   "execution_count": 1,
   "id": "bfb5b002",
   "metadata": {},
   "outputs": [
    {
     "name": "stdout",
     "output_type": "stream",
     "text": [
      "<class 'numpy.ndarray'>\n"
     ]
    }
   ],
   "source": [
    "import numpy as np\n",
    "\n",
    "an_array=np.array([3,33,333]) # Create a rank 1 array\n",
    "\n",
    "print(type(an_array))        # The typemof an ndarray is : \"<class 'numpy.ndarray'>\""
   ]
  },
  {
   "cell_type": "code",
   "execution_count": 2,
   "id": "9b42bc6e",
   "metadata": {},
   "outputs": [
    {
     "data": {
      "text/plain": [
       "(2, 3)"
      ]
     },
     "execution_count": 2,
     "metadata": {},
     "output_type": "execute_result"
    }
   ],
   "source": [
    "an_array2=np.array([[3,33,333],[4,44,444]])\n",
    "an_array2.shape"
   ]
  },
  {
   "cell_type": "markdown",
   "id": "6a28cc45",
   "metadata": {},
   "source": [
    "# test the shape of the array we just created, it should have just one dimension (Rank 1)"
   ]
  },
  {
   "cell_type": "code",
   "execution_count": 3,
   "id": "a5a609c4",
   "metadata": {},
   "outputs": [
    {
     "name": "stdout",
     "output_type": "stream",
     "text": [
      "(3,)\n"
     ]
    }
   ],
   "source": [
    "print(an_array.shape)"
   ]
  },
  {
   "cell_type": "code",
   "execution_count": 4,
   "id": "2c1b1a60",
   "metadata": {},
   "outputs": [
    {
     "name": "stdout",
     "output_type": "stream",
     "text": [
      "3 33 333\n"
     ]
    }
   ],
   "source": [
    "# Because this is a 1-rank array, we need only one index to access each element\n",
    "\n",
    "print(an_array[0],an_array[1],an_array[2])"
   ]
  },
  {
   "cell_type": "code",
   "execution_count": 5,
   "id": "946c855c",
   "metadata": {},
   "outputs": [
    {
     "name": "stdout",
     "output_type": "stream",
     "text": [
      "[888  33 333]\n"
     ]
    }
   ],
   "source": [
    "an_array[0]=888 # ndarrays are mutable, here we change an element of the array\n",
    "print(an_array)"
   ]
  },
  {
   "cell_type": "markdown",
   "id": "932e6496",
   "metadata": {},
   "source": [
    "# How to create a Rank 2 numpy array:\n",
    "\n",
    "# A rank 2 ndarray is one with two dimensions. Notice the fformat below of[[row],[row]]. \n",
    "# 2 Dimensional arrays are great for representing matrices which are often used in data science"
   ]
  },
  {
   "cell_type": "code",
   "execution_count": 6,
   "id": "3fe79c83",
   "metadata": {},
   "outputs": [
    {
     "name": "stdout",
     "output_type": "stream",
     "text": [
      "[[11 12 13]\n",
      " [21 22 23]]\n",
      "The shape is 2 rows, 3 columns: (2, 3)\n",
      "Accessing elements [0,0],[0,1], and [1,0] of the ndarray: 11 , 12 , 21\n"
     ]
    }
   ],
   "source": [
    "another=np.array([[11,12,13],[21,22,23]]) # Creates a rank 2 array\n",
    "\n",
    "print(another)   # print the array\n",
    "\n",
    "print('The shape is 2 rows, 3 columns:',another.shape)  # rows x columns\n",
    "\n",
    "print('Accessing elements [0,0],[0,1], and [1,0] of the ndarray:',another[0,0],',',another[0,1],',',another[1,0])"
   ]
  },
  {
   "cell_type": "markdown",
   "id": "2310e337",
   "metadata": {},
   "source": [
    "# There are many way to create numpy arrays:\n",
    "\n",
    "\n",
    "# Here we create a number of different size arrays with different shapes and different pre-filled values. numpy has a number of built in methods which help us quickly and easily create multidimensional arrays."
   ]
  },
  {
   "cell_type": "code",
   "execution_count": 7,
   "id": "a7a01193",
   "metadata": {},
   "outputs": [
    {
     "name": "stdout",
     "output_type": "stream",
     "text": [
      "[[0. 0.]\n",
      " [0. 0.]]\n"
     ]
    }
   ],
   "source": [
    "import numpy as np\n",
    "\n",
    "# create a 2x2 array of zeroes\n",
    "\n",
    "ex1=np.zeros((2,2))\n",
    "print(ex1)"
   ]
  },
  {
   "cell_type": "code",
   "execution_count": 8,
   "id": "3f93c766",
   "metadata": {},
   "outputs": [
    {
     "name": "stdout",
     "output_type": "stream",
     "text": [
      "[[9. 9.]\n",
      " [9. 9.]]\n"
     ]
    }
   ],
   "source": [
    "# create a 2x2 array filled with 9.0\n",
    "\n",
    "ex2=np.full((2,2),9.0)\n",
    "print(ex2)"
   ]
  },
  {
   "cell_type": "code",
   "execution_count": 9,
   "id": "82e7f2dc",
   "metadata": {},
   "outputs": [
    {
     "name": "stdout",
     "output_type": "stream",
     "text": [
      "[[1. 0. 0. 0. 0.]\n",
      " [0. 1. 0. 0. 0.]\n",
      " [0. 0. 1. 0. 0.]\n",
      " [0. 0. 0. 1. 0.]\n",
      " [0. 0. 0. 0. 1.]]\n"
     ]
    }
   ],
   "source": [
    "# create a 2x2 matrix with diagonal as 1 and others as 0\n",
    "\n",
    "ex3=np.eye(5,5)\n",
    "print(ex3)"
   ]
  },
  {
   "cell_type": "code",
   "execution_count": 10,
   "id": "b95ce035",
   "metadata": {},
   "outputs": [
    {
     "name": "stdout",
     "output_type": "stream",
     "text": [
      "[[1. 1.]\n",
      " [1. 1.]]\n"
     ]
    }
   ],
   "source": [
    "# create an array of ones\n",
    "\n",
    "ex4=np.ones((2,2))\n",
    "print(ex4)"
   ]
  },
  {
   "cell_type": "code",
   "execution_count": 11,
   "id": "aa47708e",
   "metadata": {},
   "outputs": [
    {
     "name": "stdout",
     "output_type": "stream",
     "text": [
      "(2, 2)\n",
      "\n",
      "1.0\n"
     ]
    }
   ],
   "source": [
    "# Notice that the above ndarray ex4 is actually rank 2, it is a 2X1 array\n",
    "# This means we need to use two indexes to access an element\n",
    "\n",
    "print(ex4.shape)\n",
    "print()\n",
    "print(ex4[0,0]) # two indexes to access an element"
   ]
  },
  {
   "cell_type": "code",
   "execution_count": 12,
   "id": "89521c79",
   "metadata": {},
   "outputs": [
    {
     "name": "stdout",
     "output_type": "stream",
     "text": [
      "[[0.7652102  0.30552996]\n",
      " [0.14131296 0.20541592]]\n"
     ]
    }
   ],
   "source": [
    "# create an array of random floats between 0 and 1\n",
    "ex5=np.random.random((2,2))\n",
    "print(ex5)"
   ]
  },
  {
   "cell_type": "markdown",
   "id": "d2b8cad1",
   "metadata": {},
   "source": [
    "# Array Indexing\n",
    "\n",
    "\n",
    "\n",
    "# Slice indexing:\n",
    "\n",
    "# Similar to the use of slice indexing with lists and strings, we can use slice indexing to pull out sub-regions of ndarrays."
   ]
  },
  {
   "cell_type": "code",
   "execution_count": 13,
   "id": "77f2e8a9",
   "metadata": {},
   "outputs": [
    {
     "name": "stdout",
     "output_type": "stream",
     "text": [
      "[[11 12 13 14]\n",
      " [21 22 23 24]\n",
      " [31 32 33 34]]\n"
     ]
    }
   ],
   "source": [
    "import numpy as np\n",
    "\n",
    "# Rank 2 array of shape (3,4)\n",
    "an_array=np.array([[11,12,13,14],[21,22,23,24],[31,32,33,34]])\n",
    "print(an_array)"
   ]
  },
  {
   "cell_type": "code",
   "execution_count": 14,
   "id": "53cbedd5",
   "metadata": {},
   "outputs": [
    {
     "name": "stdout",
     "output_type": "stream",
     "text": [
      "[[12 13]\n",
      " [22 23]]\n"
     ]
    }
   ],
   "source": [
    "# Use array slicing to get a subarray of the first 2 rows x 2 clomuns\n",
    "a_slice=an_array[0:2,1:3]\n",
    "print(a_slice)"
   ]
  },
  {
   "cell_type": "code",
   "execution_count": 15,
   "id": "cb7c72f0",
   "metadata": {},
   "outputs": [
    {
     "name": "stdout",
     "output_type": "stream",
     "text": [
      "[[12 13]\n",
      " [22 23]]\n"
     ]
    }
   ],
   "source": [
    "# the above can also be done as follows\n",
    "print(an_array[0:2,1:3])    # the first set of numbers is for rows & the second set is for columns"
   ]
  },
  {
   "cell_type": "markdown",
   "id": "c9e68598",
   "metadata": {},
   "source": [
    "# When you modify a slice, you actually modify the underlying array"
   ]
  },
  {
   "cell_type": "code",
   "execution_count": 16,
   "id": "2f87feec",
   "metadata": {},
   "outputs": [
    {
     "name": "stdout",
     "output_type": "stream",
     "text": [
      "Before 12\n",
      "After 1000\n",
      "[[  11 1000   13   14]\n",
      " [  21   22   23   24]\n",
      " [  31   32   33   34]]\n"
     ]
    }
   ],
   "source": [
    "print('Before',an_array[0,1])  # inspect the element at 0,1\n",
    "a_slice[0,0]=1000    #a_slice[0,0] is the same piece of data as an_array[0,1]\n",
    "print('After',an_array[0,1])\n",
    "print(an_array)"
   ]
  },
  {
   "cell_type": "markdown",
   "id": "75f66976",
   "metadata": {},
   "source": [
    "# Use both integer indexing & slice indexing\n",
    "\n",
    "We can use combinations of integer indexing and slice indexing to create different shaped matrices."
   ]
  },
  {
   "cell_type": "code",
   "execution_count": 17,
   "id": "82acd8ee",
   "metadata": {},
   "outputs": [
    {
     "name": "stdout",
     "output_type": "stream",
     "text": [
      "[[11 12 13 14]\n",
      " [21 22 23 24]\n",
      " [31 32 33 34]]\n"
     ]
    }
   ],
   "source": [
    "# Create a rank 2 array of shape (3,4)\n",
    "an_array=np.array([[11,12,13,14],[21,22,23,24],[31,32,33,34]])\n",
    "print(an_array)"
   ]
  },
  {
   "cell_type": "code",
   "execution_count": 18,
   "id": "e612bdd3",
   "metadata": {},
   "outputs": [
    {
     "name": "stdout",
     "output_type": "stream",
     "text": [
      "[21 22 23 24] (4,)\n"
     ]
    }
   ],
   "source": [
    "# Using both integer indexing & slicing generates an array of lower rank\n",
    "row_rank1=an_array[1,:]   # Rank 1 view\n",
    "print(row_rank1,row_rank1.shape)   # notice only a single[]"
   ]
  },
  {
   "cell_type": "code",
   "execution_count": 19,
   "id": "08b5fd25",
   "metadata": {},
   "outputs": [
    {
     "name": "stdout",
     "output_type": "stream",
     "text": [
      "[[21 22 23 24]] (1, 4)\n"
     ]
    }
   ],
   "source": [
    "# Slicing alone: generates an array of the same rank as the an_array\n",
    "row_rank2=an_array[1:2,:] # Rank 2 view\n",
    "print(row_rank2,row_rank2.shape)   # Notice the [[]]"
   ]
  },
  {
   "cell_type": "code",
   "execution_count": 20,
   "id": "6e9b5764",
   "metadata": {},
   "outputs": [
    {
     "name": "stdout",
     "output_type": "stream",
     "text": [
      "\n",
      "[12 22 32] (3,)\n",
      "\n",
      "[[12]\n",
      " [22]\n",
      " [32]] (3, 1)\n"
     ]
    }
   ],
   "source": [
    "# We can do the same thing for columns of an array:\n",
    "\n",
    "print()\n",
    "col_rank1=an_array[:,1]\n",
    "col_rank2=an_array[:,1:2]\n",
    "\n",
    "print(col_rank1,col_rank1.shape)  # Rank 1\n",
    "print()\n",
    "print(col_rank2,col_rank2.shape)   # Rank 2"
   ]
  },
  {
   "cell_type": "markdown",
   "id": "ebd56362",
   "metadata": {},
   "source": [
    "# Array Indexing for changing elements:\n",
    "\n",
    "Sometimes it's useful to use an array of indexes to access or change elements."
   ]
  },
  {
   "cell_type": "code",
   "execution_count": 21,
   "id": "4574928a",
   "metadata": {},
   "outputs": [
    {
     "name": "stdout",
     "output_type": "stream",
     "text": [
      "Original Array: \n",
      " [[11 12 13]\n",
      " [21 22 23]\n",
      " [31 32 33]\n",
      " [41 42 43]]\n"
     ]
    }
   ],
   "source": [
    "# Create a new array\n",
    "an_array=np.array([[11,12,13,],[21,22,23],[31,32,33],[41,42,43]])\n",
    "print('Original Array:','\\n',an_array)"
   ]
  },
  {
   "cell_type": "code",
   "execution_count": 22,
   "id": "bbab7aa1",
   "metadata": {},
   "outputs": [
    {
     "name": "stdout",
     "output_type": "stream",
     "text": [
      "\n",
      "Col indices picked: [0 1 2 0]\n",
      "\n",
      "Row indices picked: [0 1 2 3]\n"
     ]
    }
   ],
   "source": [
    "# Create an array of indices\n",
    "col_indices=np.array([0,1,2,0])\n",
    "print('\\nCol indices picked:',col_indices)\n",
    "\n",
    "row_indices=np.arange(4)  # arange will select 0,1,2,3\n",
    "print('\\nRow indices picked:',row_indices)"
   ]
  },
  {
   "cell_type": "code",
   "execution_count": 23,
   "id": "b843a3a2",
   "metadata": {},
   "outputs": [
    {
     "name": "stdout",
     "output_type": "stream",
     "text": [
      "0 , 0\n",
      "1 , 1\n",
      "2 , 2\n",
      "3 , 0\n"
     ]
    },
    {
     "data": {
      "text/plain": [
       "'for i in rwo_indices:\\n       for j in col_indices'"
      ]
     },
     "execution_count": 23,
     "metadata": {},
     "output_type": "execute_result"
    }
   ],
   "source": [
    "# Examine the pairings of row_indices and col_indices. These are the elements we'll change next\n",
    "for i,j in zip(row_indices,col_indices):\n",
    "    print(i,',',j)\n",
    "'''for i in rwo_indices:\n",
    "       for j in col_indices'''"
   ]
  },
  {
   "cell_type": "code",
   "execution_count": 24,
   "id": "9511dd44",
   "metadata": {},
   "outputs": [
    {
     "name": "stdout",
     "output_type": "stream",
     "text": [
      "Values in the array at those indices: [11 22 33 41]\n"
     ]
    }
   ],
   "source": [
    "# Select on element from each row\n",
    "print('Values in the array at those indices:',an_array[row_indices,col_indices])\n",
    "#an_array[0, 0], an_array[1,1],an_array[2, 2], an_array[3,0] = an_array[row_indices, col_indices]"
   ]
  },
  {
   "cell_type": "code",
   "execution_count": 25,
   "id": "83d875cc",
   "metadata": {},
   "outputs": [
    {
     "name": "stdout",
     "output_type": "stream",
     "text": [
      "\n",
      "Changed Array is \n",
      " [[1011   12   13]\n",
      " [  21 1022   23]\n",
      " [  31   32 1033]\n",
      " [1041   42   43]]\n"
     ]
    }
   ],
   "source": [
    "# # Change one element from each row using the indices selected\n",
    "an_array[row_indices,col_indices]+=1000 # a=a+10 is same as a+=10\n",
    "print('\\nChanged Array is','\\n',an_array)    ###(VALUES HAVE CHANGED DUE TO MULTIPLE RUN)"
   ]
  },
  {
   "cell_type": "markdown",
   "id": "5868a9f8",
   "metadata": {},
   "source": [
    "# Boolean Indexing"
   ]
  },
  {
   "cell_type": "markdown",
   "id": "9e0bda6c",
   "metadata": {},
   "source": [
    "# Array Indexing for changing elements:"
   ]
  },
  {
   "cell_type": "code",
   "execution_count": 26,
   "id": "58203393",
   "metadata": {},
   "outputs": [
    {
     "name": "stdout",
     "output_type": "stream",
     "text": [
      "[[11 12]\n",
      " [21 22]\n",
      " [31 32]]\n"
     ]
    }
   ],
   "source": [
    "# Create a 3x2 array\n",
    "an_array=np.array([[11,12],[21,22],[31,32]])\n",
    "print(an_array)"
   ]
  },
  {
   "cell_type": "code",
   "execution_count": 27,
   "id": "0a9d8712",
   "metadata": {},
   "outputs": [
    {
     "data": {
      "text/plain": [
       "array([[False, False],\n",
       "       [ True,  True],\n",
       "       [ True,  True]])"
      ]
     },
     "execution_count": 27,
     "metadata": {},
     "output_type": "execute_result"
    }
   ],
   "source": [
    "# Create a filter which will be boolean values for whether each element meets this condition\n",
    "\n",
    "filter=(an_array>15)\n",
    "filter"
   ]
  },
  {
   "cell_type": "markdown",
   "id": "7b3db5c8",
   "metadata": {},
   "source": [
    "Notice that the filter is a same size ndarray as an_array which is filled with True for each element whose corresponding element in an_array which is greater than 15 and False for those elements whose value is less than 15."
   ]
  },
  {
   "cell_type": "code",
   "execution_count": 28,
   "id": "e5323a14",
   "metadata": {},
   "outputs": [
    {
     "name": "stdout",
     "output_type": "stream",
     "text": [
      "[21 22 31 32]\n"
     ]
    }
   ],
   "source": [
    "# we can now select just those elements which meet that criteria\n",
    "print(an_array[filter])"
   ]
  },
  {
   "cell_type": "code",
   "execution_count": 29,
   "id": "09756399",
   "metadata": {},
   "outputs": [
    {
     "data": {
      "text/plain": [
       "array([21, 22, 31, 32])"
      ]
     },
     "execution_count": 29,
     "metadata": {},
     "output_type": "execute_result"
    }
   ],
   "source": [
    "# For short we could have just used the approach below without the need for the separate filter array\n",
    "an_array[an_array>15]"
   ]
  },
  {
   "cell_type": "markdown",
   "id": "54e043e3",
   "metadata": {},
   "source": [
    "What is particularly useful is that we can actually change elements in the array applying a similar logical filter. Let's add 100 to all the even values."
   ]
  },
  {
   "cell_type": "code",
   "execution_count": 30,
   "id": "05ce741b",
   "metadata": {},
   "outputs": [
    {
     "name": "stdout",
     "output_type": "stream",
     "text": [
      "[[ 11 112]\n",
      " [ 21 122]\n",
      " [ 31 132]]\n"
     ]
    }
   ],
   "source": [
    "an_array[an_array%2==0]+=100\n",
    "print(an_array)"
   ]
  },
  {
   "cell_type": "markdown",
   "id": "0cf13bbd",
   "metadata": {},
   "source": [
    "# Datatypes and Array Operations\n",
    "\n",
    "\n",
    "\n",
    "Datatypes:"
   ]
  },
  {
   "cell_type": "code",
   "execution_count": 31,
   "id": "31dd78d6",
   "metadata": {},
   "outputs": [
    {
     "name": "stdout",
     "output_type": "stream",
     "text": [
      "int32\n"
     ]
    }
   ],
   "source": [
    "ex1=np.array([11,12]) # Python assigns the datatype\n",
    "print(ex1.dtype)"
   ]
  },
  {
   "cell_type": "code",
   "execution_count": 32,
   "id": "d1902d62",
   "metadata": {},
   "outputs": [
    {
     "name": "stdout",
     "output_type": "stream",
     "text": [
      "float64\n"
     ]
    }
   ],
   "source": [
    "ex2=np.array([11.0,12.0])\n",
    "print(ex2.dtype)"
   ]
  },
  {
   "cell_type": "code",
   "execution_count": 33,
   "id": "c0e01c4f",
   "metadata": {},
   "outputs": [
    {
     "name": "stdout",
     "output_type": "stream",
     "text": [
      "int64\n"
     ]
    }
   ],
   "source": [
    "ex3=np.array([11,12],dtype=np.int64) # You can also tell python the data type\n",
    "print(ex3.dtype)"
   ]
  },
  {
   "cell_type": "code",
   "execution_count": 34,
   "id": "5208912d",
   "metadata": {},
   "outputs": [
    {
     "name": "stdout",
     "output_type": "stream",
     "text": [
      "int64\n",
      "\n",
      "[11 12]\n"
     ]
    }
   ],
   "source": [
    "# you can use this to force floats into integers (using floor function)\n",
    "ex4=np.array([11.1,12.7],dtype=np.int64)\n",
    "print(ex4.dtype)\n",
    "print()\n",
    "print(ex4)"
   ]
  },
  {
   "cell_type": "code",
   "execution_count": 35,
   "id": "adde57b9",
   "metadata": {},
   "outputs": [
    {
     "name": "stdout",
     "output_type": "stream",
     "text": [
      "float64\n",
      "\n",
      "[11. 12.]\n"
     ]
    }
   ],
   "source": [
    "# You can use this to force integers into floats if you anticipate\n",
    "# the values may change to floats later\n",
    "ex5=np.array([11,12],dtype=np.float64)\n",
    "print(ex5.dtype)\n",
    "print()\n",
    "print(ex5)"
   ]
  },
  {
   "cell_type": "markdown",
   "id": "531c558a",
   "metadata": {},
   "source": [
    "# Arithmetic Array Operations:"
   ]
  },
  {
   "cell_type": "code",
   "execution_count": 36,
   "id": "3eadd1f0",
   "metadata": {},
   "outputs": [
    {
     "name": "stdout",
     "output_type": "stream",
     "text": [
      "[[111 112]\n",
      " [121 122]] \n",
      " \n",
      " [[211.1 212.1]\n",
      " [221.1 222.2]]\n"
     ]
    },
    {
     "name": "stderr",
     "output_type": "stream",
     "text": [
      "C:\\Users\\MOHDTA~1\\AppData\\Local\\Temp/ipykernel_3864/995869726.py:2: DeprecationWarning: `np.int` is a deprecated alias for the builtin `int`. To silence this warning, use `int` by itself. Doing this will not modify any behavior and is safe. When replacing `np.int`, you may wish to use e.g. `np.int64` or `np.int32` to specify the precision. If you wish to review your current use, check the release note link for additional information.\n",
      "Deprecated in NumPy 1.20; for more details and guidance: https://numpy.org/devdocs/release/1.20.0-notes.html#deprecations\n",
      "  x=np.array([[111,112],[121,122]],dtype=np.int)\n"
     ]
    }
   ],
   "source": [
    "import numpy as np\n",
    "x=np.array([[111,112],[121,122]],dtype=np.int)\n",
    "y=np.array([[211.1,212.1],[221.1,222.2]],dtype=np.float64)\n",
    "\n",
    "print(x,'\\n','\\n',y)"
   ]
  },
  {
   "cell_type": "code",
   "execution_count": 37,
   "id": "6d2326b5",
   "metadata": {},
   "outputs": [
    {
     "name": "stdout",
     "output_type": "stream",
     "text": [
      "[[322.1 324.1]\n",
      " [342.1 344.2]]\n",
      "\n",
      "[[322.1 324.1]\n",
      " [342.1 344.2]]\n"
     ]
    }
   ],
   "source": [
    "# add\n",
    "print(x+y)\n",
    "print()\n",
    "print(np.add(x,y))"
   ]
  },
  {
   "cell_type": "code",
   "execution_count": 38,
   "id": "4e40a08b",
   "metadata": {},
   "outputs": [
    {
     "name": "stdout",
     "output_type": "stream",
     "text": [
      "[[23432.1 23755.2]\n",
      " [26753.1 27108.4]]\n",
      "\n",
      "[[23432.1 23755.2]\n",
      " [26753.1 27108.4]]\n"
     ]
    }
   ],
   "source": [
    "# multiply\n",
    "print(x*y)\n",
    "print()\n",
    "print(np.multiply(x,y))"
   ]
  },
  {
   "cell_type": "code",
   "execution_count": 39,
   "id": "027203bc",
   "metadata": {},
   "outputs": [
    {
     "name": "stdout",
     "output_type": "stream",
     "text": [
      "[[-100.1 -100.1]\n",
      " [-100.1 -100.2]]\n",
      "\n",
      "[[-100.1 -100.1]\n",
      " [-100.1 -100.2]]\n"
     ]
    }
   ],
   "source": [
    "# subtract\n",
    "print(x-y)\n",
    "print()\n",
    "print(np.subtract(x,y))"
   ]
  },
  {
   "cell_type": "code",
   "execution_count": 40,
   "id": "1d1fdbb6",
   "metadata": {},
   "outputs": [
    {
     "name": "stdout",
     "output_type": "stream",
     "text": [
      "[[0.52581715 0.52805281]\n",
      " [0.54726368 0.54905491]]\n",
      "\n",
      "[[0.52581715 0.52805281]\n",
      " [0.54726368 0.54905491]]\n"
     ]
    }
   ],
   "source": [
    "# divide\n",
    "print(x/y)\n",
    "print()\n",
    "print(np.divide(x,y))"
   ]
  },
  {
   "cell_type": "code",
   "execution_count": 41,
   "id": "8540b536",
   "metadata": {},
   "outputs": [
    {
     "name": "stdout",
     "output_type": "stream",
     "text": [
      "[[10.53565375 10.58300524]\n",
      " [11.         11.04536102]]\n"
     ]
    }
   ],
   "source": [
    "# square root\n",
    "print(np.sqrt(x))"
   ]
  },
  {
   "cell_type": "code",
   "execution_count": 42,
   "id": "a9a24b26",
   "metadata": {},
   "outputs": [
    {
     "name": "stdout",
     "output_type": "stream",
     "text": [
      "[[14.52928078 14.56365339]\n",
      " [14.86943173 14.90637448]]\n"
     ]
    }
   ],
   "source": [
    "print(np.sqrt(y))"
   ]
  },
  {
   "cell_type": "code",
   "execution_count": 43,
   "id": "d7f7298f",
   "metadata": {},
   "outputs": [
    {
     "name": "stdout",
     "output_type": "stream",
     "text": [
      "[[1.60948707e+48 4.37503945e+48]\n",
      " [3.54513118e+52 9.63666567e+52]]\n"
     ]
    }
   ],
   "source": [
    "# exponential\n",
    "print(np.exp(x))"
   ]
  },
  {
   "cell_type": "markdown",
   "id": "44f6ce6d",
   "metadata": {},
   "source": [
    "# Statistical Methods, Sorting, \n",
    "\n",
    "# and\n",
    "\n",
    "# Set Operations:\n",
    "\n",
    "\n",
    "Basic Statistical Operations:"
   ]
  },
  {
   "cell_type": "code",
   "execution_count": 44,
   "id": "808979be",
   "metadata": {},
   "outputs": [
    {
     "name": "stdout",
     "output_type": "stream",
     "text": [
      "[[  3.1808216   14.87708475  17.23026371 -17.13366069   7.01674525]\n",
      " [  9.68100045   3.01663232   8.74600057  -4.87516735   4.90363381]]\n"
     ]
    }
   ],
   "source": [
    "# setup a random 2x5 matrix\n",
    "arr=10*np.random.randn(2,5) #random.random or random.randn or random.randint\n",
    "print(arr)"
   ]
  },
  {
   "cell_type": "code",
   "execution_count": 45,
   "id": "5cf1ec07",
   "metadata": {},
   "outputs": [
    {
     "name": "stdout",
     "output_type": "stream",
     "text": [
      "4.6643354416202705\n"
     ]
    }
   ],
   "source": [
    "# Compute the mean for all elements\n",
    "print(arr.mean())"
   ]
  },
  {
   "cell_type": "code",
   "execution_count": 46,
   "id": "106c2952",
   "metadata": {},
   "outputs": [
    {
     "name": "stdout",
     "output_type": "stream",
     "text": [
      "[  6.43091102   8.94685853  12.98813214 -11.00441402   5.96018953]\n"
     ]
    }
   ],
   "source": [
    "# compute the mean by column\n",
    "print(arr.mean(axis=0))"
   ]
  },
  {
   "cell_type": "code",
   "execution_count": 47,
   "id": "200eb9ed",
   "metadata": {},
   "outputs": [
    {
     "name": "stdout",
     "output_type": "stream",
     "text": [
      "[5.03425092 4.29441996]\n"
     ]
    }
   ],
   "source": [
    "# compute the mean by row\n",
    "print(arr.mean(axis=1))"
   ]
  },
  {
   "cell_type": "code",
   "execution_count": 48,
   "id": "de2d58b7",
   "metadata": {},
   "outputs": [
    {
     "name": "stdout",
     "output_type": "stream",
     "text": [
      "46.643354416202705\n"
     ]
    }
   ],
   "source": [
    "# sum all the elements\n",
    "print(arr.sum())"
   ]
  },
  {
   "cell_type": "code",
   "execution_count": 49,
   "id": "04ffd4f4",
   "metadata": {},
   "outputs": [
    {
     "name": "stdout",
     "output_type": "stream",
     "text": [
      "[7.01674525 4.90363381]\n"
     ]
    }
   ],
   "source": [
    "# compute the medians\n",
    "print(np.median(arr,axis=1)) # by rows 1st and 2nd also"
   ]
  },
  {
   "cell_type": "markdown",
   "id": "6c282190",
   "metadata": {},
   "source": [
    "# Sorting"
   ]
  },
  {
   "cell_type": "code",
   "execution_count": 50,
   "id": "df24e39b",
   "metadata": {},
   "outputs": [],
   "source": [
    "# create a 10 element array of randoms\n",
    "unsorted=np.random.randn(10)"
   ]
  },
  {
   "cell_type": "code",
   "execution_count": 51,
   "id": "7893fd2a",
   "metadata": {},
   "outputs": [
    {
     "name": "stdout",
     "output_type": "stream",
     "text": [
      "[ 0.63367939  1.10386723 -0.90144632  1.43697222 -0.41164361 -1.05391359\n",
      "  0.20325139  1.14880915  0.23674708  1.30883805]\n"
     ]
    }
   ],
   "source": [
    "print(unsorted)"
   ]
  },
  {
   "cell_type": "code",
   "execution_count": 52,
   "id": "c57ced54",
   "metadata": {},
   "outputs": [
    {
     "name": "stdout",
     "output_type": "stream",
     "text": [
      "[-1.05391359 -0.90144632 -0.41164361  0.20325139  0.23674708  0.63367939\n",
      "  1.10386723  1.14880915  1.30883805  1.43697222]\n",
      "\n",
      "[ 0.63367939  1.10386723 -0.90144632  1.43697222 -0.41164361 -1.05391359\n",
      "  0.20325139  1.14880915  0.23674708  1.30883805]\n"
     ]
    }
   ],
   "source": [
    "# create copy & sort\n",
    "sorted=np.array(unsorted)\n",
    "sorted.sort() # it will arrange the values in ascending order i.e sorting\n",
    "\n",
    "print(sorted)\n",
    "print()\n",
    "print(unsorted)"
   ]
  },
  {
   "cell_type": "code",
   "execution_count": 53,
   "id": "c9a847f7",
   "metadata": {},
   "outputs": [
    {
     "name": "stdout",
     "output_type": "stream",
     "text": [
      "[-1.05391359 -0.90144632 -0.41164361  0.20325139  0.23674708  0.63367939\n",
      "  1.10386723  1.14880915  1.30883805  1.43697222]\n"
     ]
    }
   ],
   "source": [
    "# inplace sorting\n",
    "unsorted.sort()\n",
    "print(unsorted)"
   ]
  },
  {
   "cell_type": "markdown",
   "id": "1aaf53c7",
   "metadata": {},
   "source": [
    "# Finding Unique elements:"
   ]
  },
  {
   "cell_type": "code",
   "execution_count": 54,
   "id": "23c8fc93",
   "metadata": {},
   "outputs": [
    {
     "name": "stdout",
     "output_type": "stream",
     "text": [
      "\n",
      "[1 2 4]\n"
     ]
    }
   ],
   "source": [
    "import numpy as np\n",
    "array=np.array([1,2,1,4,2,1,4,2])\n",
    "print()\n",
    "print(np.unique(array)) # This will return unique values"
   ]
  },
  {
   "cell_type": "markdown",
   "id": "18193d9c",
   "metadata": {},
   "source": [
    "# Set Operations with np.array data type:"
   ]
  },
  {
   "cell_type": "code",
   "execution_count": 55,
   "id": "52c7a373",
   "metadata": {},
   "outputs": [
    {
     "name": "stdout",
     "output_type": "stream",
     "text": [
      "['desk' 'chair' 'bulb'] ['lamp' 'bulb' 'chair']\n"
     ]
    }
   ],
   "source": [
    "s1=np.array(['desk','chair','bulb'])\n",
    "s2=np.array(['lamp','bulb','chair'])\n",
    "print(s1,s2)"
   ]
  },
  {
   "cell_type": "code",
   "execution_count": 56,
   "id": "dca22c6b",
   "metadata": {},
   "outputs": [
    {
     "name": "stdout",
     "output_type": "stream",
     "text": [
      "['bulb' 'chair']\n"
     ]
    }
   ],
   "source": [
    "print(np.intersect1d(s1,s2)) # common values between s1 & s2"
   ]
  },
  {
   "cell_type": "code",
   "execution_count": 57,
   "id": "e5ecc14a",
   "metadata": {},
   "outputs": [
    {
     "name": "stdout",
     "output_type": "stream",
     "text": [
      "['bulb' 'chair' 'desk' 'lamp']\n"
     ]
    }
   ],
   "source": [
    "print(np.union1d(s1,s2)) # common & uncommon vales between s1 & s2"
   ]
  },
  {
   "cell_type": "code",
   "execution_count": 58,
   "id": "5897ce19",
   "metadata": {},
   "outputs": [
    {
     "name": "stdout",
     "output_type": "stream",
     "text": [
      "['desk']\n"
     ]
    }
   ],
   "source": [
    "print(np.setdiff1d(s1,s2)) # elements in s1 that are not in s2"
   ]
  },
  {
   "cell_type": "code",
   "execution_count": 59,
   "id": "e2a62896",
   "metadata": {},
   "outputs": [
    {
     "name": "stdout",
     "output_type": "stream",
     "text": [
      "[False  True  True]\n"
     ]
    }
   ],
   "source": [
    "print(np.in1d(s1,s2)) # boolean o/p for which element of s1 is also in s2"
   ]
  },
  {
   "cell_type": "markdown",
   "id": "9a855560",
   "metadata": {},
   "source": [
    "# Broadcasting:\n",
    "\n",
    "Introduction to broadcasting.\n",
    "For more details, please see:\n",
    "https://docs.scipy.org/doc/numpy-1.10.1/user/basics.broadcasting.html"
   ]
  },
  {
   "cell_type": "code",
   "execution_count": 60,
   "id": "cc9a43de",
   "metadata": {},
   "outputs": [
    {
     "name": "stdout",
     "output_type": "stream",
     "text": [
      "[[0. 0. 0.]\n",
      " [0. 0. 0.]\n",
      " [0. 0. 0.]\n",
      " [0. 0. 0.]]\n"
     ]
    }
   ],
   "source": [
    "import numpy as np\n",
    "\n",
    "start = np.zeros((4,3))\n",
    "print(start)"
   ]
  },
  {
   "cell_type": "code",
   "execution_count": 61,
   "id": "d982b221",
   "metadata": {},
   "outputs": [
    {
     "name": "stdout",
     "output_type": "stream",
     "text": [
      "[1 0 2]\n"
     ]
    }
   ],
   "source": [
    "# create a rank 1 ndarray with 3 values\n",
    "add_rows=np.array([1,0,2])\n",
    "print(add_rows)"
   ]
  },
  {
   "cell_type": "code",
   "execution_count": 62,
   "id": "89d26888",
   "metadata": {},
   "outputs": [
    {
     "name": "stdout",
     "output_type": "stream",
     "text": [
      "[[1. 0. 2.]\n",
      " [1. 0. 2.]\n",
      " [1. 0. 2.]\n",
      " [1. 0. 2.]]\n"
     ]
    }
   ],
   "source": [
    "y=start+add_rows # add to each row of start using broadcasting\n",
    "print(y)"
   ]
  },
  {
   "cell_type": "code",
   "execution_count": 63,
   "id": "28ef7622",
   "metadata": {},
   "outputs": [
    {
     "name": "stdout",
     "output_type": "stream",
     "text": [
      "[[0 1 2 3]]\n",
      "[[0]\n",
      " [1]\n",
      " [2]\n",
      " [3]]\n"
     ]
    }
   ],
   "source": [
    "# create an ndarray which is 4x1 to broadcast across columns\n",
    "add_cols=np.array([[0,1,2,3]]) # print(add_cols)\n",
    "print(add_cols)\n",
    "add_cols=add_cols.T # transpose (T) converts rows into columns & vice versa\n",
    "\n",
    "print(add_cols)"
   ]
  },
  {
   "cell_type": "code",
   "execution_count": 64,
   "id": "edcdc342",
   "metadata": {},
   "outputs": [
    {
     "name": "stdout",
     "output_type": "stream",
     "text": [
      "[[0. 0. 0.]\n",
      " [1. 1. 1.]\n",
      " [2. 2. 2.]\n",
      " [3. 3. 3.]]\n"
     ]
    }
   ],
   "source": [
    "# add to each column of start using broadcasting\n",
    "y=start+add_cols\n",
    "print(y)"
   ]
  },
  {
   "cell_type": "code",
   "execution_count": 65,
   "id": "7efcaa44",
   "metadata": {},
   "outputs": [
    {
     "name": "stdout",
     "output_type": "stream",
     "text": [
      "[[1. 1. 1.]\n",
      " [1. 1. 1.]\n",
      " [1. 1. 1.]\n",
      " [1. 1. 1.]]\n"
     ]
    }
   ],
   "source": [
    "# this will just broadcast in both dimensions\n",
    "add_scalar=np.array([1])\n",
    "print(start+add_scalar)"
   ]
  },
  {
   "cell_type": "markdown",
   "id": "cdc9d233",
   "metadata": {},
   "source": [
    "Examples from slides"
   ]
  },
  {
   "cell_type": "code",
   "execution_count": 66,
   "id": "7953d015",
   "metadata": {},
   "outputs": [
    {
     "name": "stdout",
     "output_type": "stream",
     "text": [
      "[[ 1  2  3  4]\n",
      " [ 5  6  7  8]\n",
      " [ 9 10 11 12]]\n"
     ]
    }
   ],
   "source": [
    "# create a 3x4 matrix\n",
    "arrA=np.array([[1,2,3,4],[5,6,7,8],[9,10,11,12]])\n",
    "print(arrA)"
   ]
  },
  {
   "cell_type": "code",
   "execution_count": 67,
   "id": "7c5a1e64",
   "metadata": {},
   "outputs": [
    {
     "name": "stdout",
     "output_type": "stream",
     "text": [
      "[0 1 0 2]\n"
     ]
    }
   ],
   "source": [
    "# create a 4x1 array\n",
    "arrB=np.array([0,1,0,2])\n",
    "print(arrB)"
   ]
  },
  {
   "cell_type": "code",
   "execution_count": 68,
   "id": "750f2f1f",
   "metadata": {},
   "outputs": [
    {
     "name": "stdout",
     "output_type": "stream",
     "text": [
      "[[ 1  3  3  6]\n",
      " [ 5  7  7 10]\n",
      " [ 9 11 11 14]]\n"
     ]
    }
   ],
   "source": [
    "# add the two together using broadcasting\n",
    "arrC=arrA+arrB\n",
    "print(arrC)"
   ]
  },
  {
   "cell_type": "markdown",
   "id": "d4d8f8c5",
   "metadata": {},
   "source": [
    "# Binary Format"
   ]
  },
  {
   "cell_type": "code",
   "execution_count": 69,
   "id": "f64b236c",
   "metadata": {},
   "outputs": [],
   "source": [
    "import numpy as np\n",
    "x=np.array([23.23,24.24])"
   ]
  },
  {
   "cell_type": "code",
   "execution_count": 70,
   "id": "3735867c",
   "metadata": {},
   "outputs": [],
   "source": [
    "np.save('an_array',x) # saves the values in x to an_array"
   ]
  },
  {
   "cell_type": "code",
   "execution_count": 71,
   "id": "d3ae033c",
   "metadata": {},
   "outputs": [
    {
     "data": {
      "text/plain": [
       "array([23.23, 24.24])"
      ]
     },
     "execution_count": 71,
     "metadata": {},
     "output_type": "execute_result"
    }
   ],
   "source": [
    "np.load('an_array.npy')"
   ]
  },
  {
   "cell_type": "markdown",
   "id": "49ca3246",
   "metadata": {},
   "source": [
    "# Text Format"
   ]
  },
  {
   "cell_type": "code",
   "execution_count": 72,
   "id": "1e754456",
   "metadata": {},
   "outputs": [],
   "source": [
    "np.savetxt('array.txt',X=x,delimiter=',')"
   ]
  },
  {
   "cell_type": "code",
   "execution_count": 73,
   "id": "e8fe8f57",
   "metadata": {},
   "outputs": [
    {
     "name": "stderr",
     "output_type": "stream",
     "text": [
      "'cat' is not recognized as an internal or external command,\n",
      "operable program or batch file.\n"
     ]
    }
   ],
   "source": [
    "## For Windows replace 'cat' with 'type'\n",
    "!cat array.txt"
   ]
  },
  {
   "cell_type": "code",
   "execution_count": 74,
   "id": "f5bbf2d5",
   "metadata": {},
   "outputs": [
    {
     "data": {
      "text/plain": [
       "array([23.23, 24.24])"
      ]
     },
     "execution_count": 74,
     "metadata": {},
     "output_type": "execute_result"
    }
   ],
   "source": [
    "np.savetxt('array.txt',X=x,delimiter=',') # savetxt function will store your file in text format\n",
    "np.loadtxt('array.txt',delimiter=',') # delimiter and sep are same whic is separated by comma"
   ]
  },
  {
   "cell_type": "markdown",
   "id": "52b53da9",
   "metadata": {},
   "source": [
    "# Additional Common ndarray Operations\n",
    "\n",
    "\n",
    "\n",
    "Dot Product on Matrices and Inner Product on Vectors:"
   ]
  },
  {
   "cell_type": "code",
   "execution_count": 75,
   "id": "243a5cfe",
   "metadata": {},
   "outputs": [
    {
     "name": "stdout",
     "output_type": "stream",
     "text": [
      "[[1 1]\n",
      " [1 1]] \n",
      " \n",
      " [[2 2]\n",
      " [2 2]] \n",
      " \n",
      " [[4 4]\n",
      " [4 4]] \n",
      " \n",
      " [[4 4]\n",
      " [4 4]]\n"
     ]
    }
   ],
   "source": [
    "# determine the dot product of two matrices\n",
    "x2d=np.array([[1,1],[1,1]])\n",
    "y2d=np.array([[2,2],[2,2]])\n",
    "print(x2d,'\\n','\\n',y2d,'\\n','\\n',x2d.dot(y2d),'\\n','\\n',np.dot(x2d,y2d))"
   ]
  },
  {
   "cell_type": "code",
   "execution_count": 76,
   "id": "765acc7e",
   "metadata": {},
   "outputs": [
    {
     "name": "stdout",
     "output_type": "stream",
     "text": [
      "180 \n",
      "\n",
      " 180\n"
     ]
    }
   ],
   "source": [
    "# determine the inner product of two vectors\n",
    "a1d=np.array([9,9])\n",
    "b1d=np.array([10,10])\n",
    "print(a1d.dot(b1d),'\\n\\n',np.dot(a1d,b1d))"
   ]
  },
  {
   "cell_type": "code",
   "execution_count": 77,
   "id": "1ff14a52",
   "metadata": {},
   "outputs": [
    {
     "name": "stdout",
     "output_type": "stream",
     "text": [
      "[18 18] \n",
      "\n",
      " [18 18]\n"
     ]
    }
   ],
   "source": [
    "# dot produce on an array & vector\n",
    "print(x2d.dot(a1d),'\\n\\n',np.dot(x2d,a1d)) # "
   ]
  },
  {
   "cell_type": "markdown",
   "id": "9e1031ad",
   "metadata": {},
   "source": [
    "# Sum"
   ]
  },
  {
   "cell_type": "code",
   "execution_count": 78,
   "id": "1e9baa34",
   "metadata": {},
   "outputs": [
    {
     "name": "stdout",
     "output_type": "stream",
     "text": [
      "66\n"
     ]
    }
   ],
   "source": [
    "# Sum elements in the array\n",
    "ex1=np.array([[11,12],[21,22]])\n",
    "print(np.sum(ex1))"
   ]
  },
  {
   "cell_type": "code",
   "execution_count": 79,
   "id": "45a409c5",
   "metadata": {},
   "outputs": [
    {
     "name": "stdout",
     "output_type": "stream",
     "text": [
      "[32 34]\n"
     ]
    }
   ],
   "source": [
    "print(np.sum(ex1,axis=0)) # column wise addition"
   ]
  },
  {
   "cell_type": "code",
   "execution_count": 80,
   "id": "15fadcc5",
   "metadata": {},
   "outputs": [
    {
     "name": "stdout",
     "output_type": "stream",
     "text": [
      "[23 43]\n"
     ]
    }
   ],
   "source": [
    "print(np.sum(ex1,axis=1)) # row wise addition"
   ]
  },
  {
   "cell_type": "markdown",
   "id": "3d4f24ec",
   "metadata": {},
   "source": [
    "# Element-wise Functions:\n",
    "\n",
    "For example, let's compare two arrays values to get the maximum of each."
   ]
  },
  {
   "cell_type": "code",
   "execution_count": 81,
   "id": "37a73a8a",
   "metadata": {},
   "outputs": [
    {
     "data": {
      "text/plain": [
       "array([0.03844885, 0.51701358, 0.60276155, 0.3160591 , 0.91653087,\n",
       "       0.52071688, 0.04483914, 0.93660726])"
      ]
     },
     "execution_count": 81,
     "metadata": {},
     "output_type": "execute_result"
    }
   ],
   "source": [
    "# random array\n",
    "x=np.random.random(8)\n",
    "x\n",
    "\n"
   ]
  },
  {
   "cell_type": "code",
   "execution_count": 82,
   "id": "5db2fc76",
   "metadata": {},
   "outputs": [
    {
     "data": {
      "text/plain": [
       "array([ 1.09076384,  0.32715444,  0.95648578,  0.40227383, -0.37730507,\n",
       "        0.91124009, -1.11643181,  0.29083909])"
      ]
     },
     "execution_count": 82,
     "metadata": {},
     "output_type": "execute_result"
    }
   ],
   "source": [
    "y=np.random.randn(8)\n",
    "y"
   ]
  },
  {
   "cell_type": "code",
   "execution_count": 83,
   "id": "48ed9920",
   "metadata": {},
   "outputs": [
    {
     "data": {
      "text/plain": [
       "array([[-0.12257556,  0.64068261,  2.12226884],\n",
       "       [ 0.21559239,  1.24028801,  1.25004225]])"
      ]
     },
     "execution_count": 83,
     "metadata": {},
     "output_type": "execute_result"
    }
   ],
   "source": [
    "# returns element wise maximum between two arrays\n",
    "import numpy as np\n",
    "x=np.random.randn(2,3)\n",
    "y=np.random.randn(2,3)\n",
    "np.maximum(x,y)"
   ]
  },
  {
   "cell_type": "markdown",
   "id": "239587ed",
   "metadata": {},
   "source": [
    "# Reshaping array:"
   ]
  },
  {
   "cell_type": "code",
   "execution_count": 84,
   "id": "40d74e1f",
   "metadata": {},
   "outputs": [
    {
     "name": "stdout",
     "output_type": "stream",
     "text": [
      "[ 0  1  2  3  4  5  6  7  8  9 10 11 12 13 14 15 16 17 18 19]\n"
     ]
    }
   ],
   "source": [
    "# grab values from 0 to 19 in an array\n",
    "arr=np.arange(20)\n",
    "print(arr)"
   ]
  },
  {
   "cell_type": "code",
   "execution_count": 85,
   "id": "1563b172",
   "metadata": {},
   "outputs": [
    {
     "data": {
      "text/plain": [
       "array([[ 0,  1,  2,  3,  4],\n",
       "       [ 5,  6,  7,  8,  9],\n",
       "       [10, 11, 12, 13, 14],\n",
       "       [15, 16, 17, 18, 19]])"
      ]
     },
     "execution_count": 85,
     "metadata": {},
     "output_type": "execute_result"
    }
   ],
   "source": [
    "# reshape to be a 4x5 matrix\n",
    "arr.reshape(4,5)   #5,4"
   ]
  },
  {
   "cell_type": "markdown",
   "id": "4f24a2bf",
   "metadata": {},
   "source": [
    "# Transpose"
   ]
  },
  {
   "cell_type": "code",
   "execution_count": 86,
   "id": "ac7cd9f2",
   "metadata": {},
   "outputs": [
    {
     "name": "stdout",
     "output_type": "stream",
     "text": [
      "[[11 12]\n",
      " [21 22]]\n"
     ]
    },
    {
     "data": {
      "text/plain": [
       "array([[11, 21],\n",
       "       [12, 22]])"
      ]
     },
     "execution_count": 86,
     "metadata": {},
     "output_type": "execute_result"
    }
   ],
   "source": [
    "# Transpose\n",
    "ex1=np.array([[11,12],[21,22]])\n",
    "\n",
    "print(ex1)\n",
    "\n",
    "ex1.T"
   ]
  },
  {
   "cell_type": "markdown",
   "id": "4eb411ba",
   "metadata": {},
   "source": [
    "# Indexing using where():"
   ]
  },
  {
   "cell_type": "code",
   "execution_count": 87,
   "id": "1c7ff43b",
   "metadata": {},
   "outputs": [
    {
     "name": "stdout",
     "output_type": "stream",
     "text": [
      "[ 1 22  3 44  5]\n"
     ]
    }
   ],
   "source": [
    "x_1=np.array([1,2,3,4,5])\n",
    "\n",
    "y_1=np.array([11,22,33,44,55])\n",
    "# where we have true in filter it will print x_1 value & for false y_1\n",
    "# this is the working of where function\n",
    "filter=np.array([True,False,True,False,True])\n",
    "\n",
    "out=np.where(filter,x_1,y_1)\n",
    "print(out)"
   ]
  },
  {
   "cell_type": "code",
   "execution_count": 88,
   "id": "ec972233",
   "metadata": {},
   "outputs": [
    {
     "data": {
      "text/plain": [
       "array([[0.63866389, 0.05123469, 0.57956474, 0.08899281, 0.57959856],\n",
       "       [0.60740482, 0.20372464, 0.91753593, 0.45078948, 0.22504227],\n",
       "       [0.29516367, 0.90076304, 0.01418945, 0.48450323, 0.12737466],\n",
       "       [0.08489877, 0.39924409, 0.36097953, 0.99823562, 0.93350493],\n",
       "       [0.32192965, 0.66169055, 0.09343011, 0.74272434, 0.45817854]])"
      ]
     },
     "execution_count": 88,
     "metadata": {},
     "output_type": "execute_result"
    }
   ],
   "source": [
    "mat=np.random.rand(5,5)\n",
    "mat"
   ]
  },
  {
   "cell_type": "code",
   "execution_count": 89,
   "id": "85c30066",
   "metadata": {},
   "outputs": [
    {
     "data": {
      "text/plain": [
       "'if mat>0.5:\\n      replace(100)\\n   else:replace(-1)'"
      ]
     },
     "execution_count": 89,
     "metadata": {},
     "output_type": "execute_result"
    }
   ],
   "source": [
    "np.where(mat>0.5,100,-1)\n",
    "\n",
    "'''if mat>0.5:\n",
    "      replace(100)\n",
    "   else:replace(-1)'''"
   ]
  },
  {
   "cell_type": "markdown",
   "id": "6b234457",
   "metadata": {},
   "source": [
    "# \"any\" or \"all\" conditionals:"
   ]
  },
  {
   "cell_type": "code",
   "execution_count": 90,
   "id": "5bf36acb",
   "metadata": {},
   "outputs": [],
   "source": [
    "arr_bools=np.array([True,False,True,True,False])"
   ]
  },
  {
   "cell_type": "code",
   "execution_count": 91,
   "id": "da545214",
   "metadata": {},
   "outputs": [
    {
     "data": {
      "text/plain": [
       "True"
      ]
     },
     "execution_count": 91,
     "metadata": {},
     "output_type": "execute_result"
    }
   ],
   "source": [
    "arr_bools.any() # is any value true"
   ]
  },
  {
   "cell_type": "code",
   "execution_count": 92,
   "id": "458940da",
   "metadata": {},
   "outputs": [
    {
     "data": {
      "text/plain": [
       "False"
      ]
     },
     "execution_count": 92,
     "metadata": {},
     "output_type": "execute_result"
    }
   ],
   "source": [
    "arr_bools.all() # are all values True"
   ]
  },
  {
   "cell_type": "markdown",
   "id": "ee93b7ad",
   "metadata": {},
   "source": [
    "# Random Number Generation:"
   ]
  },
  {
   "cell_type": "code",
   "execution_count": 93,
   "id": "92bdb99f",
   "metadata": {},
   "outputs": [
    {
     "name": "stdout",
     "output_type": "stream",
     "text": [
      "[[ 1.06359735  0.95880298 -0.32713935 -0.95894936 -1.31602844]]\n"
     ]
    }
   ],
   "source": [
    "import numpy as np\n",
    "Y=np.random.normal(size=(1,5))\n",
    "print(Y)"
   ]
  },
  {
   "cell_type": "code",
   "execution_count": 94,
   "id": "58dfa8da",
   "metadata": {},
   "outputs": [
    {
     "name": "stdout",
     "output_type": "stream",
     "text": [
      "[ 5  8  9 46]\n"
     ]
    }
   ],
   "source": [
    "Z=np.random.randint(low=2,high=50,size=4) # int integer values\n",
    "print(Z) # low for lower limits & high for higher limits"
   ]
  },
  {
   "cell_type": "code",
   "execution_count": 95,
   "id": "dd501608",
   "metadata": {},
   "outputs": [
    {
     "data": {
      "text/plain": [
       "array([ 8,  9, 46,  5])"
      ]
     },
     "execution_count": 95,
     "metadata": {},
     "output_type": "execute_result"
    }
   ],
   "source": [
    "np.random.permutation(Z) # return a new ordering of elements in Z"
   ]
  },
  {
   "cell_type": "code",
   "execution_count": 96,
   "id": "865a8e31",
   "metadata": {},
   "outputs": [
    {
     "data": {
      "text/plain": [
       "array([0.47217324, 0.41767479, 0.28109406, 0.31754582])"
      ]
     },
     "execution_count": 96,
     "metadata": {},
     "output_type": "execute_result"
    }
   ],
   "source": [
    "np.random.uniform(size=4) #uiform distribution"
   ]
  },
  {
   "cell_type": "code",
   "execution_count": 97,
   "id": "b972b9bc",
   "metadata": {},
   "outputs": [
    {
     "data": {
      "text/plain": [
       "array([-0.2774316 , -0.16492061,  0.44386325, -0.91805543])"
      ]
     },
     "execution_count": 97,
     "metadata": {},
     "output_type": "execute_result"
    }
   ],
   "source": [
    "np.random.normal(size=4) # normal distrubution size=4"
   ]
  },
  {
   "cell_type": "markdown",
   "id": "9a5402fe",
   "metadata": {},
   "source": [
    "# Merging data sets:"
   ]
  },
  {
   "cell_type": "code",
   "execution_count": 98,
   "id": "05464b16",
   "metadata": {},
   "outputs": [
    {
     "name": "stdout",
     "output_type": "stream",
     "text": [
      "[[ 5 49]\n",
      " [22 25]]\n",
      "\n",
      "[[ 2 23]\n",
      " [44 17]]\n"
     ]
    }
   ],
   "source": [
    "K=np.random.randint(low=2,high=50,size=(2,2))\n",
    "print(K)\n",
    "\n",
    "print()\n",
    "M=np.random.randint(low=2,high=50,size=(2,2))\n",
    "print(M)"
   ]
  },
  {
   "cell_type": "code",
   "execution_count": 99,
   "id": "41ec8b5f",
   "metadata": {},
   "outputs": [
    {
     "data": {
      "text/plain": [
       "array([[ 5, 49],\n",
       "       [22, 25],\n",
       "       [ 2, 23],\n",
       "       [44, 17]])"
      ]
     },
     "execution_count": 99,
     "metadata": {},
     "output_type": "execute_result"
    }
   ],
   "source": [
    "np.vstack((K,M)) #join vertically"
   ]
  },
  {
   "cell_type": "code",
   "execution_count": 100,
   "id": "8d426391",
   "metadata": {},
   "outputs": [
    {
     "data": {
      "text/plain": [
       "array([[ 5, 49,  2, 23],\n",
       "       [22, 25, 44, 17]])"
      ]
     },
     "execution_count": 100,
     "metadata": {},
     "output_type": "execute_result"
    }
   ],
   "source": [
    "np.hstack((K,M)) # join horizontally"
   ]
  },
  {
   "cell_type": "code",
   "execution_count": 101,
   "id": "6544c3b0",
   "metadata": {},
   "outputs": [
    {
     "data": {
      "text/plain": [
       "array([[ 5, 49],\n",
       "       [22, 25],\n",
       "       [ 2, 23],\n",
       "       [44, 17]])"
      ]
     },
     "execution_count": 101,
     "metadata": {},
     "output_type": "execute_result"
    }
   ],
   "source": [
    "np.concatenate([K,M],axis=0)"
   ]
  },
  {
   "cell_type": "code",
   "execution_count": 102,
   "id": "9ab62cd5",
   "metadata": {},
   "outputs": [
    {
     "data": {
      "text/plain": [
       "array([[ 5, 49,  2, 44],\n",
       "       [22, 25, 23, 17]])"
      ]
     },
     "execution_count": 102,
     "metadata": {},
     "output_type": "execute_result"
    }
   ],
   "source": [
    "np.concatenate([K,M.T],axis=1)"
   ]
  },
  {
   "cell_type": "code",
   "execution_count": null,
   "id": "bc50de8a",
   "metadata": {},
   "outputs": [],
   "source": []
  },
  {
   "cell_type": "code",
   "execution_count": null,
   "id": "1820c8fb",
   "metadata": {},
   "outputs": [],
   "source": []
  },
  {
   "cell_type": "code",
   "execution_count": null,
   "id": "b7eebd48",
   "metadata": {},
   "outputs": [],
   "source": []
  },
  {
   "cell_type": "code",
   "execution_count": null,
   "id": "356572d0",
   "metadata": {},
   "outputs": [],
   "source": []
  },
  {
   "cell_type": "code",
   "execution_count": null,
   "id": "a126d904",
   "metadata": {},
   "outputs": [],
   "source": []
  },
  {
   "cell_type": "code",
   "execution_count": null,
   "id": "87ef4d72",
   "metadata": {},
   "outputs": [],
   "source": []
  },
  {
   "cell_type": "code",
   "execution_count": null,
   "id": "d3d5aab4",
   "metadata": {},
   "outputs": [],
   "source": []
  },
  {
   "cell_type": "code",
   "execution_count": null,
   "id": "4929a42d",
   "metadata": {},
   "outputs": [],
   "source": []
  },
  {
   "cell_type": "code",
   "execution_count": null,
   "id": "76484748",
   "metadata": {},
   "outputs": [],
   "source": []
  },
  {
   "cell_type": "code",
   "execution_count": null,
   "id": "1b0be0f7",
   "metadata": {},
   "outputs": [],
   "source": []
  },
  {
   "cell_type": "code",
   "execution_count": null,
   "id": "d4b9ac95",
   "metadata": {},
   "outputs": [],
   "source": []
  },
  {
   "cell_type": "code",
   "execution_count": null,
   "id": "5abb394a",
   "metadata": {},
   "outputs": [],
   "source": []
  },
  {
   "cell_type": "code",
   "execution_count": null,
   "id": "b5c88302",
   "metadata": {},
   "outputs": [],
   "source": []
  },
  {
   "cell_type": "code",
   "execution_count": null,
   "id": "b822b910",
   "metadata": {},
   "outputs": [],
   "source": []
  },
  {
   "cell_type": "code",
   "execution_count": null,
   "id": "224a2a5c",
   "metadata": {},
   "outputs": [],
   "source": []
  },
  {
   "cell_type": "code",
   "execution_count": null,
   "id": "74d8a64e",
   "metadata": {},
   "outputs": [],
   "source": []
  }
 ],
 "metadata": {
  "kernelspec": {
   "display_name": "Python 3 (ipykernel)",
   "language": "python",
   "name": "python3"
  },
  "language_info": {
   "codemirror_mode": {
    "name": "ipython",
    "version": 3
   },
   "file_extension": ".py",
   "mimetype": "text/x-python",
   "name": "python",
   "nbconvert_exporter": "python",
   "pygments_lexer": "ipython3",
   "version": "3.9.7"
  }
 },
 "nbformat": 4,
 "nbformat_minor": 5
}
